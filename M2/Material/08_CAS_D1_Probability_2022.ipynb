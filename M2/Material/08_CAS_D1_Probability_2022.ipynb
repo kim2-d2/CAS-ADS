{
  "nbformat": 4,
  "nbformat_minor": 0,
  "metadata": {
    "kernelspec": {
      "display_name": "Python 3",
      "language": "python",
      "name": "python3"
    },
    "language_info": {
      "codemirror_mode": {
        "name": "ipython",
        "version": 3
      },
      "file_extension": ".py",
      "mimetype": "text/x-python",
      "name": "python",
      "nbconvert_exporter": "python",
      "pygments_lexer": "ipython3",
      "version": "3.7.6"
    },
    "colab": {
      "name": "08-CAS-D1-Probability-2022.ipynb",
      "provenance": [],
      "collapsed_sections": [
        "Xw0DzFIvCrxX",
        "1mwatAILCrxY",
        "2GaZl2ICx20_",
        "qCwS2yugCrxe",
        "kFwri6PS0LS7",
        "aH24nsOg0zRr",
        "WTZQ-K0eCrxh",
        "8o0p3ogGCrxi",
        "sn-zV5dL11kA",
        "VdtG6mWF5Pen",
        "KZXVT141Crxn",
        "fo9ii-BTzfMH",
        "2lsdO0c2Crxr",
        "E7Jypp7CClEI",
        "uRxav5jbCrxa",
        "dgFD9KGyCrxb"
      ],
      "toc_visible": true
    }
  },
  "cells": [
    {
      "cell_type": "markdown",
      "metadata": {
        "id": "VPrrXnuiCrxR"
      },
      "source": [
        "Notebook 2, Module 2, Statistical Inference for Data Science, CAS Applied Data Science, 2022-08-30, A. Muehlemann, University of Bern.\n",
        "\n",
        "*This notebook is based on last year's notebook by S. Haug and G. Conti.*"
      ]
    },
    {
      "cell_type": "markdown",
      "metadata": {
        "id": "AXe5g2m0CrxU"
      },
      "source": [
        "\n",
        "# 2. Probability and descriptive statistics\n"
      ]
    },
    {
      "cell_type": "markdown",
      "metadata": {
        "id": "EC-udnfoCrxV"
      },
      "source": [
        "**Average expected study time :** 3x45 min (depending on your background). Your are supposed to play with the examples: change them, maybe test on another dataset. From just executing them, you will not learn much.\n",
        "\n",
        "**Learning outcomes :**\n",
        "- Random variables and probability density functions\n",
        "  - Know the normal probability density function (p.d.f.)\n",
        "  - Know some other useful probability distributions\n",
        "- Describing data with descriptive statistics\n",
        "  - Obtain moments of a p.d.f. (mean, variance, standard deviation, kurtosis, skewness, quantile, median, mode)\n",
        "  - Generate data randomly according to a p.d.f.\n",
        "- Understand the meaning of gaussian/normal uncertainties\n",
        "\n",
        "#### Literature\n",
        "\n",
        "- Python: https://pandas.pydata.org/pandas-docs/stable/generated/pandas.DataFrame.html\n",
        "- Think Stats: https://greenteapress.com/wp/think-stats-2e/\n",
        "\n",
        "For mathematicians or very interested people\n",
        "- A. Stuart, J.K. Ord, and S. Arnold, Kendall’s Advanced Theory of Statistics\n"
      ]
    },
    {
      "cell_type": "code",
      "metadata": {
        "colab": {
          "base_uri": "https://localhost:8080/"
        },
        "id": "6vWrFVAvCrxW",
        "outputId": "53f38e7f-861c-4ab0-b651-8a800b164c40"
      },
      "source": [
        "# Load the needed python libraries by executing this python code (press ctrl enter)\n",
        "import numpy as np\n",
        "import scipy.stats\n",
        "import matplotlib.pyplot as plt\n",
        "print('Congrats, you just loaded numpy, scipy.stats and mathplot.pyplot loaded !')"
      ],
      "execution_count": null,
      "outputs": [
        {
          "output_type": "stream",
          "name": "stdout",
          "text": [
            "Congrats, you just loaded numpy, scipy.stats and mathplot.pyplot loaded !\n"
          ]
        }
      ]
    },
    {
      "cell_type": "markdown",
      "metadata": {
        "id": "Xw0DzFIvCrxX"
      },
      "source": [
        "## 2.1 Random variables and probability density functions (p.d.f.)\n",
        "\n"
      ]
    },
    {
      "cell_type": "markdown",
      "metadata": {
        "id": "ykLar845CrxX"
      },
      "source": [
        "In practice the measurement process, the data collection, is understood as a random, or stochastic, process. The outcome varies from measurement to measurement. There are three (at least) reasons:\n",
        "\n",
        "- Measurements are normally on a sample, not the full population. Samples fluctuate.\n",
        "- Sensors have limited resolution, measurements on the same sample vary within the resolution \n",
        "- According to quantum mechanics, i.e. at smallest distances, measurements are by nature stochastic\n",
        "\n",
        "Our Iris dataset is a sample of 50 flowers in each class. So in each class there are 50 varying measurements for each of the four observables, sepal and petal length and width. This is due to the first and maybe the second reason (quantum mechanics can be neclected at scales larger than molecules). In descriptive statistics the observables are therefore called **random** variables. Let us call one $x$ for examplification.\n",
        "\n",
        "If $x$ can take any value from a continuous range, we write $f(x;\\theta)dx$ as the probability that the measurement’s outcome lies between x and $x + dx$. The function $f (x; \\theta)$ is called the **probability density function (p.d.f.)**, which may depend on one or more parameters $\\theta$ (for example the Iris species).\n",
        "\n",
        "A random variable $x$ can be discrete or continuous. If $x$ is discrete, then we use $f(x;\\theta)$ to denote the probability to find the value $x$ (in python the term probability mass function, pmf, is then used). In the following the term p.d.f. is often taken to cover both the continuous and discrete cases, although technically the term density should only be used in the continuous case.\n",
        "\n",
        "The p.d.f. is always normalized to **unity** (the number 1), i.e. the integral or the area under the curve equals one. Both $x$ and $\\theta$ may have multiple components and are then often written as vectors. If $\\theta$ is unknown, we may wish to estimate its value from a given set of measurements of $x$; this is a central topic of statistics (see next notebook on parameter estimation and regression).\n",
        "\n",
        "The p.d.f. should be chosen to describe the fluctuation of the random variable in a best possible way. In other words, we should always choose an approprate p.d.f to describe our data. Some very useful and much used p.d.f. follow. "
      ]
    },
    {
      "cell_type": "markdown",
      "metadata": {
        "id": "HLNrZDw8yCm1"
      },
      "source": [
        "### The normal p.d.f."
      ]
    },
    {
      "cell_type": "markdown",
      "metadata": {
        "id": "1mwatAILCrxY"
      },
      "source": [
        "The normal (or Gaussian) probability density function is probably the most used one (informally the \"bell curve\"). It \n",
        "derives its importance in large part from the *central limit theorem*: \"In most situations, when independent random variables are added, their properly normalized sum tends toward a normal distribution (informally a \"bell curve\") even if the original variables themselves are not normally distributed.\" https://en.wikipedia.org/wiki/Central_limit_theorem \n",
        "\n",
        "**Example:** If one flips a coin many times the probability of getting a given number of heads in a series of flips will approach a normal curve, with mean equal to half the total number of flips in each series. (In the limit of an infinite number of flips, it will equal a normal curve.)\n",
        "\n",
        "This means that in many or most cases it is sufficient to know the characteristics of the normal p.d.f. Others can be looked up if needed. Also often unspecified statements like the *error*, or better, the *uncertainty* refer to their meaning on the normal p.d.f.\n",
        "\n",
        "As a formula the normal distribution function looks like (in one dimension)\n",
        "\n",
        "$$ f(x;\\mu,\\sigma) = \\frac{1}{\\sigma \\sqrt{2\\pi}} \\exp(\\frac{-(x-\\mu)^2}{2\\sigma^2}) $$\n",
        "\n",
        "It reads, given the distribution parameters mean $\\mu$ and variance $\\sigma$, x follows this function.\n",
        "\n",
        "### Exercise 2.1 (5 min)\n",
        "\n",
        "Plot the normal distribution with mean 0 and variance 5 for 400 x values between -20 to 20. Repeat this for two other means and variances. How big is the surface under the curves ?\n",
        "\n",
        "(See also scipy.stat.norm https://docs.scipy.org/doc/scipy-0.16.1/reference/generated/scipy.stats.norm.html)  \n"
      ]
    },
    {
      "cell_type": "code",
      "metadata": {
        "colab": {
          "base_uri": "https://localhost:8080/",
          "height": 282
        },
        "id": "yOp5o6mMCrxZ",
        "outputId": "bd0d08c4-211d-41e2-bc47-7ac92d164a69"
      },
      "source": [
        "# Part of the solution:\n",
        "x = np.linspace(-20,20,400) # 400 bins from -20 to 20\n",
        "plt.plot(x, scipy.stats.norm.pdf(x,0,5))\n",
        "plt.plot(x, scipy.stats.norm.pdf(x,0,2))"
      ],
      "execution_count": null,
      "outputs": [
        {
          "output_type": "execute_result",
          "data": {
            "text/plain": [
              "[<matplotlib.lines.Line2D at 0x7f572558c150>]"
            ]
          },
          "metadata": {},
          "execution_count": 2
        },
        {
          "output_type": "display_data",
          "data": {
            "text/plain": [
              "<Figure size 432x288 with 1 Axes>"
            ],
            "image/png": "[encoded data removed]"
          },
          "metadata": {
            "needs_background": "light"
          }
        }
      ]
    },
    {
      "cell_type": "markdown",
      "metadata": {
        "id": "fK-auKXeCrxc"
      },
      "source": [
        "## 2.2 Describing the data with descriptive statistics\n"
      ]
    },
    {
      "cell_type": "markdown",
      "metadata": {
        "id": "YUk2u6lOCs0j"
      },
      "source": [
        "Statistics is a branch of mathematics dealing with the collection, analysis, interpretation, presentation, and organization of data. The first step of a statistical analysis is descriptive statistics. In descriptive statistics the variables of interest are summarized or described based on the sample using indexes such as the mean or standard deviation (see moments). After describing the variables descriptively inferential statistics is employed. In inferential statistics one draws conclusions from data that are subject to random variation (e.g. observational errors, sampling variation).\n"
      ]
    },
    {
      "cell_type": "markdown",
      "metadata": {
        "id": "2GaZl2ICx20_"
      },
      "source": [
        "### 2.3.1 Moments of the p.d.f."
      ]
    },
    {
      "cell_type": "markdown",
      "metadata": {
        "id": "iR9Hd4wCCrxc"
      },
      "source": [
        " \n",
        "An important operator often used in probability theory and statistics is the expectation of a random variable $x$ with p.d.f. $f_(x)$ given by\n",
        "$$\\mathbb{E}(x) = \\int_{-\\infty}^{\\infty} xf(x)dx.   $$\n",
        "The expected value is basically a generalized weighted average. In the case where $x$ is discrete the expectation is given by\n",
        "In the discrete case this integral becomes the sum known as the arithemtic mean:\n",
        "$$ \\mu = \\sum_{i=1}^n \\mathbb{P}(x=x_i) x_i.$$\n",
        "If $x$ is uniform this reduces to \n",
        "$$ \\mu = \\frac{1}{n}\\sum_{i=1}^n  x_i.$$\n",
        "\n",
        "Since in statistics we assume that our draws are uniform this is the formula we use to estimate the expectation.\n",
        "<!--\n",
        "and the $n^{th}$ central moment of x (or moment about the mean, $α_1$) is\n",
        "\n",
        "$$ m_n \\equiv E[(x-\\alpha_1)^n] = \\int_{-\\infty}^{\\infty} (x-\\alpha_1)^nf(x)dx   $$\n",
        "-->\n",
        "\n",
        "Another operator closely related to the **mean $\\mu$ (or expectated value)** is the **variance $\\sigma^2$**, that is the expectation of the squared deviation of a random variable from its mean:\n",
        "\n",
        "$$\\sigma^2 =\\int_{-\\infty}^{\\infty} (x-\\mu)^2 f(x)dx$$ \n",
        "\n",
        "If $x$ is uniformly distributed then \n",
        "$$ \\sigma^2 = \\frac{1}{n} \\sum_{i=1}^n (x_i - \\mu)^2.$$\n",
        "\n",
        "The mean is the location of the “center of mass” of the p.d.f., and the variance is a measure of the square of its width. It is often convenient to use the **standard deviation (SD)** of $x$, $\\sigma$, defined as the square root of the variance. \n",
        "\n",
        "The mean and variance are especially important when talking about normal distribution as they uniquely characterize the graph of the normal distribution:  the mean is the maximum of the graph and the standard deviation  determines the amount of dispersion away from the mean. \n",
        "\n",
        "The idea behind the mean can be generalized, so that we obtain a the notion of moments\n",
        "$$\\mathbb{E}(x^n) = \\int_{-\\infty}^{\\infty} x^nf(x)dx.   $$\n",
        "\n",
        "The second moment $\\mathbb{E}(X^2)$ occurs in the variance, the third $\\mathbb{E}(X^3)$ is related to the skewness and fourth moment $\\mathbb{E}(X^4)$ to the kurtosis.  The skewness is a number indicating the deviation from a symmetric form. Kurtosis is a number indicating if the tails of the distribution is larger or smaller then the tails of the normal distribution.\n"
      ]
    },
    {
      "cell_type": "markdown",
      "metadata": {
        "id": "qCzAPTnbCrxd"
      },
      "source": [
        "### 2.3.2 Quantiles and median"
      ]
    },
    {
      "cell_type": "markdown",
      "metadata": {
        "id": "qJO3-Bk6Crxd"
      },
      "source": [
        "The **quantile $q_{\\alpha}$** is the value of the random variable $x$ at which $\\alpha$% of the area is below $x$. An important special case is the **median, $q_{med} \\equiv q_{0.5}$**. At the median half the area lies above and half lies below. \n",
        "For the normal p.d.f. the median equals the mean. The most probable value of a distribution is called **mode**. \n",
        "\n",
        "Special quantiles are the quartiles and percentiles. The first quartile is the $q_{0.25}$, the second the $q_{0.5}$ etc. Percentiles are for example $q_{0.75}$ etc. \n",
        "\n",
        "<!--\n",
        "Any odd moment about the mean is a measure of the **skewness** of the p.d.f. The simplest of these is the dimensionless coefficient of skewness $\\gamma_1 = m_33/\\sigma^3$.\n",
        "\n",
        "The fourth central moment $m_4$ provides a convenient measure of the tails of a distribution. For the Gaussian distribution, one has $m_4 = 3\\sigma^4$. The **kurtosis** is defined as $\\gamma_2 = m_4/\\sigma^4 − 3$, i.e., it is zero for a Gaussian, positive for a leptokurtic distribution with longer tails, and negative for a platykurtic distribution with tails that die off more quickly than those of a Gaussian.\n",
        "\n",
        "The **quantile $x_{\\alpha}$** is the value of the random variable x at which the cumulative distribution is equal to $\\alpha$. That is, the quantile is the inverse of the cumulative distribution function, i.e., $x_{alpha} = F^{−1}(\\alpha)$. An important special case is the **median, $x_{med}$**, defined by $F(x_{med}) = 1/2$, i.e., half the probability lies above and half lies below $x_{med}$. (More rigorously, $x_{med}$ is a median if $P(x \\geq x_{med}) \\geq 1/2$ and $P(x \\leq x_{med}) \\geq 1/2$. If only one value exists, it is called ‘the median.’)\n",
        "\n",
        "Under a monotonic change of variable $x \\rightarrow y(x)$, the quantiles of a distribution (and hence also the median) obey $y_{\\alpha} = y(x_{\\alpha})$. In general the expectation value and **mode** (most probable value) of a distribution do not, however, transform in this way.\n",
        "\n",
        "Let us look at median and quantile$_68$ of the normal pdf: \n",
        "-->"
      ]
    },
    {
      "cell_type": "markdown",
      "metadata": {
        "id": "qCwS2yugCrxe"
      },
      "source": [
        "#### Exercise "
      ]
    },
    {
      "cell_type": "markdown",
      "metadata": {
        "id": "h2KRFefuCrxe"
      },
      "source": [
        "Get some desciptive statistics from a normal (continous) p.d.f. with mean 0 and SD 4."
      ]
    },
    {
      "cell_type": "code",
      "metadata": {
        "colab": {
          "base_uri": "https://localhost:8080/"
        },
        "id": "b8O9HCdPCrxe",
        "outputId": "71a0dfb3-1603-4166-e5c1-7cbf35e144e1"
      },
      "source": [
        "mean, variance, skewness, kurtosis = scipy.stats.norm.stats(0,4,moments='mvsk')\n",
        "print(mean, variance, skewness, kurtosis)"
      ],
      "execution_count": null,
      "outputs": [
        {
          "output_type": "stream",
          "name": "stdout",
          "text": [
            "0.0 16.0 0.0 0.0\n"
          ]
        }
      ]
    },
    {
      "cell_type": "markdown",
      "metadata": {
        "id": "P1zQ_0IPCrxf"
      },
      "source": [
        "Plot the p.d.f and some moments"
      ]
    },
    {
      "cell_type": "code",
      "metadata": {
        "id": "xM0X1SedCrxf",
        "colab": {
          "base_uri": "https://localhost:8080/",
          "height": 283
        },
        "outputId": "bb415d09-25c0-48b0-e6b3-762477aadc30"
      },
      "source": [
        "x = np.linspace(-20,20,400)\n",
        "sigma=variance**0.5\n",
        "plt.plot(x,scipy.stats.norm.pdf(x,mean,sigma))\n",
        "plt.axvline(x=mean, linewidth=2, color = 'k',label=\"Mean\") # Plot the mean as a vertical line\n",
        "plt.axvline(x=mean-sigma, linewidth=2, color = 'r', label=\"Sigma (standard deviation)\")\n",
        "plt.axvline(x=mean+sigma, linewidth=2, color = 'r')\n",
        "plt.legend(loc='upper right')"
      ],
      "execution_count": null,
      "outputs": [
        {
          "output_type": "execute_result",
          "data": {
            "text/plain": [
              "<matplotlib.legend.Legend at 0x7ff37dac7050>"
            ]
          },
          "metadata": {},
          "execution_count": 8
        },
        {
          "output_type": "display_data",
          "data": {
            "image/png": "[encoded data removed]",
            "text/plain": [
              "<Figure size 432x288 with 1 Axes>"
            ]
          },
          "metadata": {
            "needs_background": "light"
          }
        }
      ]
    },
    {
      "cell_type": "markdown",
      "metadata": {
        "id": "fOlh90B0Crxj"
      },
      "source": [
        "Produce the descriptive statistics for the Iris Virginica data.\n",
        "Then plot the histograms and scatter plots."
      ]
    },
    {
      "cell_type": "code",
      "metadata": {
        "id": "efAFpQ3pCrxj",
        "colab": {
          "base_uri": "https://localhost:8080/",
          "height": 206
        },
        "outputId": "d4573369-337a-4a40-fd1b-f114892ba203"
      },
      "source": [
        "import pandas as pd\n",
        "url = \"https://archive.ics.uci.edu/ml/machine-learning-databases/iris/iris.data\"\n",
        "dataframe = pd.read_csv(url,names=['slength','swidth','plength','pwidth','species'])\n",
        "dataframe.head()"
      ],
      "execution_count": null,
      "outputs": [
        {
          "output_type": "execute_result",
          "data": {
            "text/html": [
              "<div>\n",
              "<style scoped>\n",
              "    .dataframe tbody tr th:only-of-type {\n",
              "        vertical-align: middle;\n",
              "    }\n",
              "\n",
              "    .dataframe tbody tr th {\n",
              "        vertical-align: top;\n",
              "    }\n",
              "\n",
              "    .dataframe thead th {\n",
              "        text-align: right;\n",
              "    }\n",
              "</style>\n",
              "<table border=\"1\" class=\"dataframe\">\n",
              "  <thead>\n",
              "    <tr style=\"text-align: right;\">\n",
              "      <th></th>\n",
              "      <th>slength</th>\n",
              "      <th>swidth</th>\n",
              "      <th>plength</th>\n",
              "      <th>pwidth</th>\n",
              "      <th>species</th>\n",
              "    </tr>\n",
              "  </thead>\n",
              "  <tbody>\n",
              "    <tr>\n",
              "      <th>0</th>\n",
              "      <td>5.1</td>\n",
              "      <td>3.5</td>\n",
              "      <td>1.4</td>\n",
              "      <td>0.2</td>\n",
              "      <td>Iris-setosa</td>\n",
              "    </tr>\n",
              "    <tr>\n",
              "      <th>1</th>\n",
              "      <td>4.9</td>\n",
              "      <td>3.0</td>\n",
              "      <td>1.4</td>\n",
              "      <td>0.2</td>\n",
              "      <td>Iris-setosa</td>\n",
              "    </tr>\n",
              "    <tr>\n",
              "      <th>2</th>\n",
              "      <td>4.7</td>\n",
              "      <td>3.2</td>\n",
              "      <td>1.3</td>\n",
              "      <td>0.2</td>\n",
              "      <td>Iris-setosa</td>\n",
              "    </tr>\n",
              "    <tr>\n",
              "      <th>3</th>\n",
              "      <td>4.6</td>\n",
              "      <td>3.1</td>\n",
              "      <td>1.5</td>\n",
              "      <td>0.2</td>\n",
              "      <td>Iris-setosa</td>\n",
              "    </tr>\n",
              "    <tr>\n",
              "      <th>4</th>\n",
              "      <td>5.0</td>\n",
              "      <td>3.6</td>\n",
              "      <td>1.4</td>\n",
              "      <td>0.2</td>\n",
              "      <td>Iris-setosa</td>\n",
              "    </tr>\n",
              "  </tbody>\n",
              "</table>\n",
              "</div>"
            ],
            "text/plain": [
              "   slength  swidth  plength  pwidth      species\n",
              "0      5.1     3.5      1.4     0.2  Iris-setosa\n",
              "1      4.9     3.0      1.4     0.2  Iris-setosa\n",
              "2      4.7     3.2      1.3     0.2  Iris-setosa\n",
              "3      4.6     3.1      1.5     0.2  Iris-setosa\n",
              "4      5.0     3.6      1.4     0.2  Iris-setosa"
            ]
          },
          "metadata": {},
          "execution_count": 9
        }
      ]
    },
    {
      "cell_type": "code",
      "metadata": {
        "id": "ArKI8jH_Crxk",
        "colab": {
          "base_uri": "https://localhost:8080/"
        },
        "outputId": "f20b0d5d-2a21-4b3c-bf6c-2c0705aff2ce"
      },
      "source": [
        "df_setosa = dataframe[dataframe['species']=='Iris-setosa']\n",
        "df_setosa.mean()\n",
        "\n"
      ],
      "execution_count": null,
      "outputs": [
        {
          "output_type": "execute_result",
          "data": {
            "text/plain": [
              "slength    5.006\n",
              "swidth     3.418\n",
              "plength    1.464\n",
              "pwidth     0.244\n",
              "dtype: float64"
            ]
          },
          "metadata": {},
          "execution_count": 10
        }
      ]
    },
    {
      "cell_type": "code",
      "metadata": {
        "id": "A_zFdBALCrxk",
        "colab": {
          "base_uri": "https://localhost:8080/"
        },
        "outputId": "5aabdcfc-6a3f-4067-fca0-195deb883aa1"
      },
      "source": [
        "df_setosa.median()"
      ],
      "execution_count": null,
      "outputs": [
        {
          "output_type": "execute_result",
          "data": {
            "text/plain": [
              "slength    5.0\n",
              "swidth     3.4\n",
              "plength    1.5\n",
              "pwidth     0.2\n",
              "dtype: float64"
            ]
          },
          "metadata": {},
          "execution_count": 11
        }
      ]
    },
    {
      "cell_type": "code",
      "metadata": {
        "id": "VYosdtrLCrxk",
        "colab": {
          "base_uri": "https://localhost:8080/",
          "height": 300
        },
        "outputId": "7261ea70-ec64-43af-e65c-018b0d3e23db"
      },
      "source": [
        "df_setosa.describe() # Or get a summary"
      ],
      "execution_count": null,
      "outputs": [
        {
          "output_type": "execute_result",
          "data": {
            "text/html": [
              "<div>\n",
              "<style scoped>\n",
              "    .dataframe tbody tr th:only-of-type {\n",
              "        vertical-align: middle;\n",
              "    }\n",
              "\n",
              "    .dataframe tbody tr th {\n",
              "        vertical-align: top;\n",
              "    }\n",
              "\n",
              "    .dataframe thead th {\n",
              "        text-align: right;\n",
              "    }\n",
              "</style>\n",
              "<table border=\"1\" class=\"dataframe\">\n",
              "  <thead>\n",
              "    <tr style=\"text-align: right;\">\n",
              "      <th></th>\n",
              "      <th>slength</th>\n",
              "      <th>swidth</th>\n",
              "      <th>plength</th>\n",
              "      <th>pwidth</th>\n",
              "    </tr>\n",
              "  </thead>\n",
              "  <tbody>\n",
              "    <tr>\n",
              "      <th>count</th>\n",
              "      <td>50.00000</td>\n",
              "      <td>50.000000</td>\n",
              "      <td>50.000000</td>\n",
              "      <td>50.00000</td>\n",
              "    </tr>\n",
              "    <tr>\n",
              "      <th>mean</th>\n",
              "      <td>5.00600</td>\n",
              "      <td>3.418000</td>\n",
              "      <td>1.464000</td>\n",
              "      <td>0.24400</td>\n",
              "    </tr>\n",
              "    <tr>\n",
              "      <th>std</th>\n",
              "      <td>0.35249</td>\n",
              "      <td>0.381024</td>\n",
              "      <td>0.173511</td>\n",
              "      <td>0.10721</td>\n",
              "    </tr>\n",
              "    <tr>\n",
              "      <th>min</th>\n",
              "      <td>4.30000</td>\n",
              "      <td>2.300000</td>\n",
              "      <td>1.000000</td>\n",
              "      <td>0.10000</td>\n",
              "    </tr>\n",
              "    <tr>\n",
              "      <th>25%</th>\n",
              "      <td>4.80000</td>\n",
              "      <td>3.125000</td>\n",
              "      <td>1.400000</td>\n",
              "      <td>0.20000</td>\n",
              "    </tr>\n",
              "    <tr>\n",
              "      <th>50%</th>\n",
              "      <td>5.00000</td>\n",
              "      <td>3.400000</td>\n",
              "      <td>1.500000</td>\n",
              "      <td>0.20000</td>\n",
              "    </tr>\n",
              "    <tr>\n",
              "      <th>75%</th>\n",
              "      <td>5.20000</td>\n",
              "      <td>3.675000</td>\n",
              "      <td>1.575000</td>\n",
              "      <td>0.30000</td>\n",
              "    </tr>\n",
              "    <tr>\n",
              "      <th>max</th>\n",
              "      <td>5.80000</td>\n",
              "      <td>4.400000</td>\n",
              "      <td>1.900000</td>\n",
              "      <td>0.60000</td>\n",
              "    </tr>\n",
              "  </tbody>\n",
              "</table>\n",
              "</div>"
            ],
            "text/plain": [
              "        slength     swidth    plength    pwidth\n",
              "count  50.00000  50.000000  50.000000  50.00000\n",
              "mean    5.00600   3.418000   1.464000   0.24400\n",
              "std     0.35249   0.381024   0.173511   0.10721\n",
              "min     4.30000   2.300000   1.000000   0.10000\n",
              "25%     4.80000   3.125000   1.400000   0.20000\n",
              "50%     5.00000   3.400000   1.500000   0.20000\n",
              "75%     5.20000   3.675000   1.575000   0.30000\n",
              "max     5.80000   4.400000   1.900000   0.60000"
            ]
          },
          "metadata": {},
          "execution_count": 12
        }
      ]
    },
    {
      "cell_type": "markdown",
      "metadata": {
        "id": "VPsjBML9Crxk"
      },
      "source": [
        "All the descriptive statistics methods for python dataframes are listed here:\n",
        "https://pandas.pydata.org/pandas-docs/stable/api.html#api-dataframe-stats"
      ]
    },
    {
      "cell_type": "markdown",
      "metadata": {
        "id": "jLHDhA6dCrxl"
      },
      "source": [
        "Now we looked at the numbers. Let's us plot the distributions."
      ]
    },
    {
      "cell_type": "code",
      "metadata": {
        "id": "meWumlBECrxl",
        "colab": {
          "base_uri": "https://localhost:8080/",
          "height": 313
        },
        "outputId": "465c8681-5e9c-42fd-cf4a-de6925856d07"
      },
      "source": [
        "df_setosa['slength'].plot(kind=\"hist\",fill=False,histtype='step',title='Iris Setosa', label=\"length\")\n",
        "ax = df_setosa['swidth'].plot(kind=\"hist\",fill=False,histtype='step', label=\"width\")\n",
        "ax.set_xlabel('Setal length/width [cm]')\n",
        "ax.set_ylabel('Frequency')\n",
        "plt.legend()"
      ],
      "execution_count": null,
      "outputs": [
        {
          "output_type": "execute_result",
          "data": {
            "text/plain": [
              "<matplotlib.legend.Legend at 0x7ff3755a00d0>"
            ]
          },
          "metadata": {},
          "execution_count": 13
        },
        {
          "output_type": "display_data",
          "data": {
            "image/png": "[encoded data removed]",
            "text/plain": [
              "<Figure size 432x288 with 1 Axes>"
            ]
          },
          "metadata": {
            "needs_background": "light"
          }
        }
      ]
    },
    {
      "cell_type": "code",
      "metadata": {
        "id": "nWPZs6QkCrxl",
        "colab": {
          "base_uri": "https://localhost:8080/",
          "height": 313
        },
        "outputId": "b7bff111-a8a8-4b77-84e2-03d428f30d55"
      },
      "source": [
        "df_setosa['plength'].plot(kind=\"hist\",fill=False,histtype='step',title='Iris Setosa', label=\"length\")\n",
        "ax = df_setosa['pwidth'].plot(kind=\"hist\",fill=False,histtype='step', label=\"width\")\n",
        "ax.set_xlabel('Petal length/width [cm]')\n",
        "ax.set_ylabel('Frequency')\n",
        "plt.legend()"
      ],
      "execution_count": null,
      "outputs": [
        {
          "output_type": "execute_result",
          "data": {
            "text/plain": [
              "<matplotlib.legend.Legend at 0x7ff3755fa4d0>"
            ]
          },
          "metadata": {},
          "execution_count": 14
        },
        {
          "output_type": "display_data",
          "data": {
            "image/png": "[encoded data removed]",
            "text/plain": [
              "<Figure size 432x288 with 1 Axes>"
            ]
          },
          "metadata": {
            "needs_background": "light"
          }
        }
      ]
    },
    {
      "cell_type": "markdown",
      "metadata": {
        "id": "nZBkQVzMCrxl"
      },
      "source": [
        "It is hard to say by eye if the distributions are normally distributed. Later this week, we'll use statistical tests to find that out. The binning is also not equal. To define equal binnings see example from yesterday. The petal length is funny.\n",
        "\n",
        "We can complete our descriptive studies by looking at the scatter plots (correlations). \n"
      ]
    },
    {
      "cell_type": "code",
      "metadata": {
        "id": "sJwfkDPW_jxU"
      },
      "source": [
        "# write your code here"
      ],
      "execution_count": null,
      "outputs": []
    },
    {
      "cell_type": "markdown",
      "metadata": {
        "id": "B2vYdz-az-11"
      },
      "source": [
        "## 2.3 Other useful distributions"
      ]
    },
    {
      "cell_type": "markdown",
      "metadata": {
        "id": "kFwri6PS0LS7"
      },
      "source": [
        "### 2.3.1 Poisson distribution"
      ]
    },
    {
      "cell_type": "markdown",
      "metadata": {
        "id": "KENC1KioCrxh"
      },
      "source": [
        "**Some words on the Poisson distribution**\n",
        "\n",
        "The Poisson distribution is popular for modelling the number of times an event occurs in an interval of time or space. For example:\n",
        "\n",
        "- The number of meteorites greater than 1 meter diameter that strike earth in a year\n",
        "- The number of patients arriving in an emergency room between 10 and 11 pm\n",
        "\n",
        "The probability mass function is $$f(k;\\lambda) = \\frac{\\lambda^k exp(-\\lambda)}{k!}$$\n",
        "For large k the normal distribution is an excellent approximation of the poisson p.d.f. For k below 20 one should be careful using statements based on the normal distribution, e.g. the standard deviation is not symmetric anymore."
      ]
    },
    {
      "cell_type": "code",
      "metadata": {
        "id": "d0Zhw0nGCrxh",
        "colab": {
          "base_uri": "https://localhost:8080/"
        },
        "outputId": "8bcd7d24-e5c3-4788-8d8a-6b698c5ee27e"
      },
      "source": [
        "x = np.arange(-1, 40)\n",
        "plt.plot(x,scipy.stats.poisson.pmf(x,2),linestyle='steps-mid')\n",
        "plt.plot(x,scipy.stats.poisson.pmf(x,15),linestyle='steps-mid')\n"
      ],
      "execution_count": null,
      "outputs": [
        {
          "output_type": "stream",
          "name": "stderr",
          "text": [
            "/usr/local/lib/python3.7/dist-packages/ipykernel_launcher.py:2: MatplotlibDeprecationWarning: Passing the drawstyle with the linestyle as a single string is deprecated since Matplotlib 3.1 and support will be removed in 3.3; please pass the drawstyle separately using the drawstyle keyword argument to Line2D or set_drawstyle() method (or ds/set_ds()).\n",
            "  \n",
            "/usr/local/lib/python3.7/dist-packages/ipykernel_launcher.py:3: MatplotlibDeprecationWarning: Passing the drawstyle with the linestyle as a single string is deprecated since Matplotlib 3.1 and support will be removed in 3.3; please pass the drawstyle separately using the drawstyle keyword argument to Line2D or set_drawstyle() method (or ds/set_ds()).\n",
            "  This is separate from the ipykernel package so we can avoid doing imports until\n"
          ]
        },
        {
          "output_type": "execute_result",
          "data": {
            "text/plain": [
              "[<matplotlib.lines.Line2D at 0x7ff37547f7d0>]"
            ]
          },
          "metadata": {},
          "execution_count": 16
        },
        {
          "output_type": "display_data",
          "data": {
            "image/png": "[encoded data removed]",
            "text/plain": [
              "<Figure size 432x288 with 1 Axes>"
            ]
          },
          "metadata": {
            "needs_background": "light"
          }
        }
      ]
    },
    {
      "cell_type": "markdown",
      "metadata": {
        "id": "Dn2EbwxYCrxh"
      },
      "source": [
        "We see that a possion p.d.f. with mean 15 looks very much like the normal distribution."
      ]
    },
    {
      "cell_type": "markdown",
      "metadata": {
        "id": "aH24nsOg0zRr"
      },
      "source": [
        "#### Exercise\n",
        "Get some desciptive statistics from the poisson p.m.f with mean 1.7. See also https://docs.scipy.org/doc/scipy/reference/generated/scipy.stats.poisson.html"
      ]
    },
    {
      "cell_type": "code",
      "metadata": {
        "id": "jhgpz6OgCrxg",
        "colab": {
          "base_uri": "https://localhost:8080/"
        },
        "outputId": "9022ce0a-5161-429b-eb8b-91216c86fd4e"
      },
      "source": [
        "m, v, s, k = scipy.stats.poisson.stats(1.7,moments='mvsk')\n",
        "#my_norm = norm(0,2)\n",
        "print('Mean = %1.2f Var = %1.2f Std = %1.2f Skewness = %1.2f kurtosis = %1.2f' % (m,v,v**0.5,s,k))\n",
        "#my_norm.moments()"
      ],
      "execution_count": null,
      "outputs": [
        {
          "output_type": "stream",
          "name": "stdout",
          "text": [
            "Mean = 1.70 Var = 1.70 Std = 1.30 Skewness = 0.77 kurtosis = 0.59\n"
          ]
        }
      ]
    },
    {
      "cell_type": "markdown",
      "metadata": {
        "id": "Cg54iLV-Crxg"
      },
      "source": [
        "Plot mode and median of a poisson p.d.f. "
      ]
    },
    {
      "cell_type": "code",
      "metadata": {
        "id": "Wk9FOtnrCrxg",
        "colab": {
          "base_uri": "https://localhost:8080/"
        },
        "outputId": "ecacc394-a31e-4b6b-c66c-6274531b9049"
      },
      "source": [
        "dist = scipy.stats.poisson(1.7)\n",
        "x = np.arange(-1, 10)\n",
        "sigma=variance**0.5\n",
        "plt.plot(x,dist.pmf(x),linestyle='steps-mid')\n",
        "dist.median()\n",
        "plt.axvline(x=mean, linewidth=2, color = 'k',label=\"Mean\")\n",
        "plt.axvline(x=mean+sigma, linewidth=2, color = 'r', label=\"Sigma (standard deviation)\")\n",
        "plt.axvline(x=dist.median(), linewidth=2, color = 'b',label=\"Median\")\n",
        "plt.legend(loc='upper right')"
      ],
      "execution_count": null,
      "outputs": [
        {
          "output_type": "stream",
          "name": "stderr",
          "text": [
            "/usr/local/lib/python3.7/dist-packages/ipykernel_launcher.py:4: MatplotlibDeprecationWarning: Passing the drawstyle with the linestyle as a single string is deprecated since Matplotlib 3.1 and support will be removed in 3.3; please pass the drawstyle separately using the drawstyle keyword argument to Line2D or set_drawstyle() method (or ds/set_ds()).\n",
            "  after removing the cwd from sys.path.\n"
          ]
        },
        {
          "output_type": "execute_result",
          "data": {
            "text/plain": [
              "<matplotlib.legend.Legend at 0x7ff375403490>"
            ]
          },
          "metadata": {},
          "execution_count": 18
        },
        {
          "output_type": "display_data",
          "data": {
            "image/png": "[encoded data removed]",
            "text/plain": [
              "<Figure size 432x288 with 1 Axes>"
            ]
          },
          "metadata": {
            "needs_background": "light"
          }
        }
      ]
    },
    {
      "cell_type": "markdown",
      "metadata": {
        "id": "WTZQ-K0eCrxh"
      },
      "source": [
        "### 2.3.2 Binomial distribution "
      ]
    },
    {
      "cell_type": "markdown",
      "metadata": {
        "id": "1AmdW0mZCrxh"
      },
      "source": [
        "The binomial distribution is frequently used to model the number of successes $k$ in a sample of size $n$ drawn with replacement from a population.\n",
        "\n",
        "$$f(k;n,p) = \\binom{n}{k} \\cdot p^kq^{n-k}$$\n",
        "\n",
        "The binomial distribution converges towards the Poisson distribution as the number of trials goes to infinity while the product np remains fixed or at least p tends to zero. Therefore, the Poisson distribution with parameter λ = np can be used as an approximation to B(n, p) of the binomial distribution if n is sufficiently large and p is sufficiently small. According to two rules of thumb, this approximation is good if n ≥ 20 and p ≤ 0.05, or if n ≥ 100 and np ≤ 10.\n",
        "\n",
        "For n>20 and p not too close to 1 or 0, the normal distribution is also here a good approximation. "
      ]
    },
    {
      "cell_type": "code",
      "metadata": {
        "id": "kwu7F1Z4Crxi",
        "colab": {
          "base_uri": "https://localhost:8080/"
        },
        "outputId": "b6495010-0200-43e2-8e91-66fe7438577b"
      },
      "source": [
        "x = np.arange(-1, 40)\n",
        "plt.plot(x,scipy.stats.binom.pmf(x,40,0.05),linestyle='steps-mid')\n",
        "plt.plot(x,scipy.stats.binom.pmf(x,40,0.2),linestyle='steps-mid')\n",
        "plt.plot(x,scipy.stats.binom.pmf(x,40,0.5),linestyle='steps-mid')\n",
        "plt.plot(x,scipy.stats.binom.pmf(x,40,0.8),linestyle='steps-mid')"
      ],
      "execution_count": null,
      "outputs": [
        {
          "output_type": "stream",
          "name": "stderr",
          "text": [
            "/usr/local/lib/python3.7/dist-packages/ipykernel_launcher.py:2: MatplotlibDeprecationWarning: Passing the drawstyle with the linestyle as a single string is deprecated since Matplotlib 3.1 and support will be removed in 3.3; please pass the drawstyle separately using the drawstyle keyword argument to Line2D or set_drawstyle() method (or ds/set_ds()).\n",
            "  \n",
            "/usr/local/lib/python3.7/dist-packages/ipykernel_launcher.py:3: MatplotlibDeprecationWarning: Passing the drawstyle with the linestyle as a single string is deprecated since Matplotlib 3.1 and support will be removed in 3.3; please pass the drawstyle separately using the drawstyle keyword argument to Line2D or set_drawstyle() method (or ds/set_ds()).\n",
            "  This is separate from the ipykernel package so we can avoid doing imports until\n",
            "/usr/local/lib/python3.7/dist-packages/ipykernel_launcher.py:4: MatplotlibDeprecationWarning: Passing the drawstyle with the linestyle as a single string is deprecated since Matplotlib 3.1 and support will be removed in 3.3; please pass the drawstyle separately using the drawstyle keyword argument to Line2D or set_drawstyle() method (or ds/set_ds()).\n",
            "  after removing the cwd from sys.path.\n",
            "/usr/local/lib/python3.7/dist-packages/ipykernel_launcher.py:5: MatplotlibDeprecationWarning: Passing the drawstyle with the linestyle as a single string is deprecated since Matplotlib 3.1 and support will be removed in 3.3; please pass the drawstyle separately using the drawstyle keyword argument to Line2D or set_drawstyle() method (or ds/set_ds()).\n",
            "  \"\"\"\n"
          ]
        },
        {
          "output_type": "execute_result",
          "data": {
            "text/plain": [
              "[<matplotlib.lines.Line2D at 0x7ff375391210>]"
            ]
          },
          "metadata": {},
          "execution_count": 19
        },
        {
          "output_type": "display_data",
          "data": {
            "image/png": "[encoded data removed]",
            "text/plain": [
              "<Figure size 432x288 with 1 Axes>"
            ]
          },
          "metadata": {
            "needs_background": "light"
          }
        }
      ]
    },
    {
      "cell_type": "markdown",
      "metadata": {
        "id": "8o0p3ogGCrxi"
      },
      "source": [
        "#### Exercise\n"
      ]
    },
    {
      "cell_type": "markdown",
      "metadata": {
        "id": "AF_qvPuY1ma9"
      },
      "source": [
        "Get yourself a cup of something and think about these questions.\n",
        "\n",
        "- Why are measured observables random variables.\n",
        "- Which probability distribution of a random variable is the most important?\n",
        "- Thumb of rule, when is the normal distribution a good approximation?\n",
        "- Can you mention 5 descriptive statistical measures (mostly based on the moments of the p.d.f)?"
      ]
    },
    {
      "cell_type": "markdown",
      "metadata": {
        "id": "sn-zV5dL11kA"
      },
      "source": [
        "### 2.3.3 Student-distribution or t-distribution\n"
      ]
    },
    {
      "cell_type": "markdown",
      "metadata": {
        "id": "PkE4TeRCCN1C"
      },
      "source": [
        "The t-distribution is symmetric and bell-shaped, like the normal distribution. However, the t-distribution has heavier tails than the normal distribution. This means that it is more prone to producing values that fall far from its mean. This makes it useful for understanding the statistical behavior of certain types of ratios of random quantities, in which variation in the denominator is amplified and may produce outlying values when the denominator of the ratio falls close to zero.\n",
        "\n",
        "\n",
        "We will indirectly encounter the t-distribution on day 4, when we look at hypothesis testing."
      ]
    },
    {
      "cell_type": "code",
      "metadata": {
        "id": "dEwcdhYg2nqW"
      },
      "source": [
        "from scipy.stats import t\n",
        "mean, var, skew, kurt = t.stats(2, moments='mvsk')"
      ],
      "execution_count": null,
      "outputs": []
    },
    {
      "cell_type": "markdown",
      "metadata": {
        "id": "3fBVK7bL4KyT"
      },
      "source": [
        "Plot the p.d.f for 2 and 10 degrees of freedom"
      ]
    },
    {
      "cell_type": "code",
      "metadata": {
        "colab": {
          "base_uri": "https://localhost:8080/"
        },
        "id": "8AlgX6A34N3K",
        "outputId": "9f9260c0-4542-427b-b894-f3bee0c4b43f"
      },
      "source": [
        "fig, ax = plt.subplots(1, 1)\n",
        "df=2\n",
        "x = np.linspace(t.ppf(0.01, df),\n",
        "                t.ppf(0.99, df), 100)\n",
        "ax.plot(x, t.pdf(x, df),\n",
        "        'r-', lw=2, alpha=0.6, label='t pdf')\n",
        "\n",
        "df=10\n",
        "x = np.linspace(t.ppf(0.01, df),\n",
        "                t.ppf(0.99, df), 100)\n",
        "ax.plot(x, t.pdf(x, df),\n",
        "        'b-', lw=2, alpha=0.6, label='t pdf')"
      ],
      "execution_count": null,
      "outputs": [
        {
          "output_type": "execute_result",
          "data": {
            "text/plain": [
              "[<matplotlib.lines.Line2D at 0x7ff3753090d0>]"
            ]
          },
          "metadata": {},
          "execution_count": 21
        },
        {
          "output_type": "display_data",
          "data": {
            "image/png": "[encoded data removed]",
            "text/plain": [
              "<Figure size 432x288 with 1 Axes>"
            ]
          },
          "metadata": {
            "needs_background": "light"
          }
        }
      ]
    },
    {
      "cell_type": "markdown",
      "metadata": {
        "id": "VdtG6mWF5Pen"
      },
      "source": [
        "### 2.3.4 Gamma distribution\n",
        "\n"
      ]
    },
    {
      "cell_type": "markdown",
      "metadata": {
        "id": "9K6_rgOWCS3k"
      },
      "source": [
        "In probability theory and statistics, the gamma distribution is a two-parameter family of continuous probability distributions.\n",
        "\n",
        "The depending on the parameters the Gamma distribution can be skewed to that it can be helpful to model the size of insurance claims and rainfalls.\n",
        "\n",
        "Lets look at the gamma p.d.f for different parameters"
      ]
    },
    {
      "cell_type": "code",
      "metadata": {
        "colab": {
          "base_uri": "https://localhost:8080/",
          "height": 283
        },
        "id": "2M7wJtms6wmH",
        "outputId": "7ece3df7-8a7d-4dfc-cf0c-940eba307ee6"
      },
      "source": [
        "from scipy.stats import gamma\n",
        "fig, ax = plt.subplots(1, 1)\n",
        "a = 2\n",
        "x = np.linspace(gamma.ppf(0.01, a),\n",
        "                gamma.ppf(0.99, a), 100)\n",
        "\n",
        "ax.plot(x, gamma.pdf(x, a),\n",
        "       'r-', lw=2, alpha=0.6, label='gamma pdf')\n",
        "\n",
        "a = 4\n",
        "x = np.linspace(gamma.ppf(0.01, a),\n",
        "                gamma.ppf(0.99, a), 100)\n",
        "\n",
        "ax.plot(x, gamma.pdf(x, a),\n",
        "       'b-', lw=2, alpha=0.6, label='gamma pdf')\n",
        "a = 8\n",
        "x = np.linspace(gamma.ppf(0.01, a),\n",
        "                gamma.ppf(0.99, a), 100)\n",
        "\n",
        "ax.plot(x, gamma.pdf(x, a),\n",
        "       'g-', lw=2, alpha=0.6, label='gamma pdf')\n"
      ],
      "execution_count": null,
      "outputs": [
        {
          "output_type": "execute_result",
          "data": {
            "text/plain": [
              "[<matplotlib.lines.Line2D at 0x7ff375285c90>]"
            ]
          },
          "metadata": {},
          "execution_count": 22
        },
        {
          "output_type": "display_data",
          "data": {
            "image/png": "[encoded data removed]",
            "text/plain": [
              "<Figure size 432x288 with 1 Axes>"
            ]
          },
          "metadata": {
            "needs_background": "light"
          }
        }
      ]
    },
    {
      "cell_type": "markdown",
      "metadata": {
        "id": "wn1aQWsuAMAA"
      },
      "source": [
        "Of course there are many many more useful distribution. If you want to see more, check out this reference http://staff.fysik.su.se/~walck/suf9601.pdf"
      ]
    },
    {
      "cell_type": "markdown",
      "metadata": {
        "id": "KZXVT141Crxn"
      },
      "source": [
        "## 2.4 How to generate random variates"
      ]
    },
    {
      "cell_type": "markdown",
      "metadata": {
        "id": "9Br53E6bCrxn"
      },
      "source": [
        "One can simulate data sets by generating them from probability density functions. The computer does this with a so called Monte Carlo (MC) algorithm. It draws x values (pseudo) randomly from the given distribution. The the actual draws of the random variable are called random variates. Simulations can be very useful when planning an experiment and developing the analysis method. Instead of real data one can use the simulated data. \n",
        "\n",
        "Let us simulate the Iris setosa sepal width data (width the mean and standard deviation we got from the real data)."
      ]
    },
    {
      "cell_type": "code",
      "metadata": {
        "id": "la2x-Bj1Crxn"
      },
      "source": [
        "n = scipy.stats.norm.rvs(3.418,0.318,50) # 100 random values from a normal distribution with mean 3.418 and SD 0.318"
      ],
      "execution_count": null,
      "outputs": []
    },
    {
      "cell_type": "code",
      "metadata": {
        "id": "6QQ-hi0XCrxn",
        "colab": {
          "base_uri": "https://localhost:8080/"
        },
        "outputId": "12084e8f-7c94-4b67-c467-12ba11f8d075"
      },
      "source": [
        "print(n[0:10]) # Print first 10 "
      ],
      "execution_count": null,
      "outputs": [
        {
          "output_type": "stream",
          "name": "stdout",
          "text": [
            "[3.42240509 4.08696603 3.63751035 3.43711487 3.51834542 3.48918371\n",
            " 3.01025655 3.41504859 3.14266439 3.70323331]\n"
          ]
        }
      ]
    },
    {
      "cell_type": "code",
      "metadata": {
        "colab": {
          "base_uri": "https://localhost:8080/"
        },
        "id": "tOtk5NC_Crxo",
        "outputId": "f2f24a01-5331-4bac-d5f4-b8f59ce6d3e7"
      },
      "source": [
        "# Put the simulated data into a dataframe\n",
        "import pandas as pd\n",
        "df_setosa_sim = pd.DataFrame(n)\n",
        "df_setosa_sim.head()"
      ],
      "execution_count": null,
      "outputs": [
        {
          "output_type": "execute_result",
          "data": {
            "text/html": [
              "<div>\n",
              "<style scoped>\n",
              "    .dataframe tbody tr th:only-of-type {\n",
              "        vertical-align: middle;\n",
              "    }\n",
              "\n",
              "    .dataframe tbody tr th {\n",
              "        vertical-align: top;\n",
              "    }\n",
              "\n",
              "    .dataframe thead th {\n",
              "        text-align: right;\n",
              "    }\n",
              "</style>\n",
              "<table border=\"1\" class=\"dataframe\">\n",
              "  <thead>\n",
              "    <tr style=\"text-align: right;\">\n",
              "      <th></th>\n",
              "      <th>0</th>\n",
              "    </tr>\n",
              "  </thead>\n",
              "  <tbody>\n",
              "    <tr>\n",
              "      <th>0</th>\n",
              "      <td>3.422405</td>\n",
              "    </tr>\n",
              "    <tr>\n",
              "      <th>1</th>\n",
              "      <td>4.086966</td>\n",
              "    </tr>\n",
              "    <tr>\n",
              "      <th>2</th>\n",
              "      <td>3.637510</td>\n",
              "    </tr>\n",
              "    <tr>\n",
              "      <th>3</th>\n",
              "      <td>3.437115</td>\n",
              "    </tr>\n",
              "    <tr>\n",
              "      <th>4</th>\n",
              "      <td>3.518345</td>\n",
              "    </tr>\n",
              "  </tbody>\n",
              "</table>\n",
              "</div>"
            ],
            "text/plain": [
              "          0\n",
              "0  3.422405\n",
              "1  4.086966\n",
              "2  3.637510\n",
              "3  3.437115\n",
              "4  3.518345"
            ]
          },
          "metadata": {},
          "execution_count": 25
        }
      ]
    },
    {
      "cell_type": "markdown",
      "metadata": {
        "id": "fo9ii-BTzfMH"
      },
      "source": [
        "####Exercise\n",
        "Try to generate a random t-distributed sample of size 20 with df=10."
      ]
    },
    {
      "cell_type": "code",
      "metadata": {
        "id": "LJbew-Lez6Xa"
      },
      "source": [],
      "execution_count": null,
      "outputs": []
    },
    {
      "cell_type": "markdown",
      "metadata": {
        "id": "WOGKZWDrCrxp"
      },
      "source": [
        "## 2.5 Uncertainties\n"
      ]
    },
    {
      "cell_type": "markdown",
      "metadata": {
        "id": "zVZCEv6LCrxp"
      },
      "source": [
        "All data have uncertainties. These should always be communicated when showing scientific numbers or plots. We distinguish between two types.\n",
        "\n",
        "- Statistical uncertainties \n",
        "    - Fluctuations, can be made smaller by taking more data, i.e. get more statistics\n",
        "- Systematic uncertainties \n",
        "    - Shift of data in one direction due to some \"mistake\" in the measurement, e.g. wrongly calibrated instrument showing all measured values systematically higher as they really are. Or for instance uncertainty due to the choice of methods and tools\n",
        "    \n",
        "The statistics tools can mostly handle the statistical uncertainties. There is no mathematical recipe for dealing with systematical uncertainties. You have to think through your experiment and try to estimate the influence of everything that can go wrong.\n",
        "\n",
        "When uncertainties are stated on numbers or in graphs as error bars or error bands they generally show one standard deviation. If the data are well described by a normal p.d.f, the interpretation of one standard deviation is clear: if the measurement is repeated many times, 32% (or about 1/3 of the measurements) **should** be outside the error bars. \n",
        "\n",
        "If the p.d.f is not normal, the interpretation of one standard deviation is not as clear. For example, for a poisson p.d.f. it is not symmetric. So again we see, for low counts where the normal asumption is not a good approximation, let's say below 20, the interpretation is not obvious anymore and care is needed.\n",
        "\n",
        "Very nice is the fact that the standard deviation of a poisson distribution is $\\sqrt{\\mu}$. So if you have a count that is larger than around 20 (then the normal interpretation is a good approximation), you get the standard deviation by taking the square root of the count. \n"
      ]
    },
    {
      "cell_type": "code",
      "metadata": {
        "id": "CGtcz0trCrxq",
        "colab": {
          "base_uri": "https://localhost:8080/",
          "height": 265
        },
        "outputId": "72972822-b0ea-4153-cd26-f76552c6fa7c"
      },
      "source": [
        "# Draw a histogram which is not normalised\n",
        "entries1, edges, patches = plt.hist(n, bins=10, histtype='step')\n",
        "# Close plt so that this histogram is not shown\n",
        "plt.close() \n",
        "# Draw a histogram which IS normed\n",
        "entries2, edges, patches = plt.hist(n, bins=10, histtype='step',density=True)\n",
        "# Calculate the poisson standard deviation and scale down to second histogram\n",
        "errors = np.sqrt(entries1) * entries2/entries1\n",
        "# calculate bin centers\n",
        "bin_centers = 0.5 * (edges[:-1] + edges[1:])\n",
        "# draw errobars, use the sqrt error.\n",
        "plt.errorbar(bin_centers, entries2, yerr=errors, fmt='r.')\n",
        "# Draw a normal distribution\n",
        "x = np.linspace(2.4,4.2,100)\n",
        "sigma=variance**0.5\n",
        "plt.plot(x,scipy.stats.norm.pdf(x,df_setosa_sim.mean(),df_setosa_sim.std()))\n",
        "plt.show()"
      ],
      "execution_count": null,
      "outputs": [
        {
          "output_type": "display_data",
          "data": {
            "image/png": "[encoded data removed]",
            "text/plain": [
              "<Figure size 432x288 with 1 Axes>"
            ]
          },
          "metadata": {
            "needs_background": "light"
          }
        }
      ]
    },
    {
      "cell_type": "markdown",
      "metadata": {
        "id": "98Ov7KLYCrxq"
      },
      "source": [
        "We see that 3 out of 10 data points are more than one standard deviation off the \"theory\" curve. This is how it should be."
      ]
    },
    {
      "cell_type": "markdown",
      "metadata": {
        "id": "YSQjhejaCrxq"
      },
      "source": [
        "## 2.6 Questions?"
      ]
    },
    {
      "cell_type": "markdown",
      "metadata": {
        "id": "fAP80BACCrxr"
      },
      "source": [
        "Do you have a question tomorrow's discussion session: https://forms.gle/4onEvT6U1p2bkMXNA"
      ]
    },
    {
      "cell_type": "markdown",
      "metadata": {
        "id": "2lsdO0c2Crxr"
      },
      "source": [
        "## References"
      ]
    },
    {
      "cell_type": "markdown",
      "metadata": {
        "id": "to2UjCSXCrxr"
      },
      "source": [
        "1. H. Cramer, Mathematical Methods of Statistics, (Princeton Univ. Press, New Jersey, 1958).\n",
        "2. A. Stuart and J.K. Ord, Kendall’s Advanced Theory of Statistics, Vol. 1 Distribution Theory 6th Ed., (Halsted Press, New York, 1994), and earlier editions by Kendall and Stuart.\n",
        "3. R.J. Barlow, Statistics: A Guide to the Use of Statistical Methods in the Physical Sciences, (John Wiley, New York, 1989).\n",
        "4. S. Brandt, Data Analysis, 3rd Ed., (Springer, New York, 1999).\n",
        "5. G. Cowan, Statistical Data Analysis, (Oxford University Press, Oxford, 1998).\n",
        "6. A.N. Kolmogorov, Grundbegriffe der Wahrscheinlichkeitsrechnung, (Springer, Berlin,\n",
        "1933); Foundations of the Theory of Probability, 2nd Ed., (Chelsea, New York 1956).\n",
        "7. Ch. Walck, Hand-book on Statistical Distributions for Experimentalists, University of Stockholm Internal Report SUF-PFY/96-01, available from http://staff.fysik.su.se/~walck/suf9601.pdf.\n",
        "8. M. Abramowitz and I. Stegun, eds., Handbook of Mathematical Functions, (Dover, New York, 1972)."
      ]
    },
    {
      "cell_type": "markdown",
      "metadata": {
        "id": "E7Jypp7CClEI"
      },
      "source": [
        "# Annex 1 Probability"
      ]
    },
    {
      "cell_type": "markdown",
      "metadata": {
        "id": "_a6zps4YCrxr"
      },
      "source": [
        "An abstract definition of probability can be given by considering a set $\\Omega$, called the sample space, and possible subsets $A,B,...$ the interpretation of which is left open. The probability $P$ is a real-valued function defined by the following axioms due to Kolmogorov (1933) [9]:\n",
        "\n",
        "- For every subset $A$ in $S$, $P(A) ≥ 0$;\n",
        "- For disjoint subsets (i.e., $A ∩ B = ∅$), $P(A ∪ B) = P(A) + P(B)$; \n",
        "- $P(S)=1$.\n",
        "\n",
        "From this further properties can be derives, e.g.\n",
        "\n",
        "- $P(\\bar{A}) = 1 - P(A)$\n",
        "- $P(A \\cup \\bar{A}) = 1$\n",
        "- $P(\\emptyset) = 0$\n",
        "- if A in B, then $P(A)\\leq P(B)$\n",
        "- $P(A \\cup \\bar{A}) = P(A) + P(B) - P(A\\cap B)$\n",
        "\n",
        "#### Conditional probability\n",
        "In addition, one defines the conditional probability $P(A|B)$ (read as $P$ of $A$ given $B$) as $$P(A|B) = \\frac{P(A ∩ B)}{P(B)}$$\n",
        "\n",
        "As an example, when throwing the dice, consider obtaining more than 3 eyes given only trows with even number of eyes outcomes. We calculate the (conditional) probability:\n",
        "\n",
        "$$P(n>3|n\\; even) = \\frac{P(n>3 \\cap n\\; even)}{P(even)} = \\frac{2/6}{3/6} = \\frac{2}{3}$$\n",
        "\n",
        "#### Independence\n",
        "\n",
        "If A and B are independent, then \n",
        "\n",
        "$$P(A|B) = \\frac{P(A ∩ B)}{P(B)} = \\frac{P(A)P(B)}{P(B)} = P(A)$$\n"
      ]
    },
    {
      "cell_type": "markdown",
      "metadata": {
        "id": "uRxav5jbCrxa"
      },
      "source": [
        "# Annex 2 Some words on probability and bayesian versus frequentist statistics"
      ]
    },
    {
      "cell_type": "markdown",
      "metadata": {
        "id": "dgFD9KGyCrxb"
      },
      "source": [
        "Since data taking is data taking of random variables, we need to define and talk about probability. In mathematichs probability is defined in a rather abstract manner (see Annex below). For our purposes we go directly to the interpreation as either **relative frequency** or **subjective probability**. If A is a possible outcome of an experiment repeated n times, then the probability of A is the realtive frequency\n",
        "\n",
        "$$P(A) = \\lim_{n\\rightarrow \\infty} \\frac{times \\; outcome \\;is\\;A}{n}$$\n",
        "\n",
        "The subjective probability is\n",
        "\n",
        "$$ P(A) = degree\\;of\\;belief\\;that \\;A \\; is\\; true$$\n",
        "\n",
        "Both concepts are consistent with the abstract mathematical definition .\n",
        "\n",
        "#### Bayes' theorem\n",
        "\n",
        "From this definition and using the fact that $A ∩ B$ and $B ∩ A$ (intersection) are the same, one obtains\n",
        "Bayes’ theorem\n",
        "\n",
        "$$P (A|B) = \\frac{P(B|A)P(A)}{P(B)}$$\n",
        "\n",
        "first published by the Reverend Thomas Bayes (1702-1761). Statistics based on the relative frequency interpretation of probability is called frequentist statistics, on bayesian theorem bayesian statistics."
      ]
    }
  ]
}