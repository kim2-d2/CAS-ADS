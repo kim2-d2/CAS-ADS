{
  "nbformat": 4,
  "nbformat_minor": 0,
  "metadata": {
    "kernelspec": {
      "display_name": "Python 3",
      "language": "python",
      "name": "python3"
    },
    "language_info": {
      "codemirror_mode": {
        "name": "ipython",
        "version": 3
      },
      "file_extension": ".py",
      "mimetype": "text/x-python",
      "name": "python",
      "nbconvert_exporter": "python",
      "pygments_lexer": "ipython3",
      "version": "3.7.6"
    },
    "colab": {
      "provenance": [],
      "collapsed_sections": [
        "ldd4t9BUHZ9y",
        "N399vCV4HZ-z",
        "UAFWFkR4gaAf",
        "f2sQVIJP0r9B"
      ]
    }
  },
  "cells": [
    {
      "cell_type": "markdown",
      "metadata": {
        "id": "UnOP-6EzHZ9q"
      },
      "source": [
        "Notebook 3, Module 2, Statistical Inference for Data Science, CAS Applied Data Science, 2022-08-31, A. Mühlemann, University of Bern. \n",
        "\n",
        "*This notebook is based on last year's notebook by S. Haug and G. Conti.*"
      ]
    },
    {
      "cell_type": "markdown",
      "metadata": {
        "id": "gpx2r-WAHZ9s"
      },
      "source": [
        "# Parameter estimation / regression\n",
        "\n",
        "**Average expected study time :** 3x45 min (depending on your background)\n",
        "\n",
        "**Learning outcomes :**\n",
        "\n",
        "- Know what is meant with parameter estimation and regression\n",
        "- Calculation of a confidence interval via Python\n",
        "- Perform linear regression with Python by example\n",
        "- Perform non-linear regression with Python by example\n",
        "- Know what non-parametric regression is \n",
        "- Perform linear regression with Python scikit-learn by example\n",
        "...\n",
        "\n",
        "**Main python modules used**\n",
        "- the Scipy.stat module https://docs.scipy.org/doc/scipy/reference/stats.html\n",
        "- the Scikit-learn module\n",
        "\n",
        "If you run this notebook on google colab, you will (probably) have no problems with importing the modules."
      ]
    },
    {
      "cell_type": "markdown",
      "metadata": {
        "id": "VWIThuikPO7W"
      },
      "source": [
        "**Link to weighted descriptive statistical methods in python**:\n",
        "https://www.statsmodels.org/stable/generated/statsmodels.stats.weightstats.DescrStatsW.html"
      ]
    },
    {
      "cell_type": "markdown",
      "metadata": {
        "id": "YrHViWYQHZ9x"
      },
      "source": [
        "# 3. Inferential Statistics I\n",
        "In this notebook we apply the methods presented in the course on the iris data set. "
      ]
    },
    {
      "cell_type": "markdown",
      "metadata": {
        "id": "3rFRb9rhHZ90"
      },
      "source": [
        "Import the Python libraries we need."
      ]
    },
    {
      "cell_type": "code",
      "metadata": {
        "id": "St85roiBHZ91"
      },
      "source": [
        "import numpy as np\n",
        "import matplotlib.pyplot as plt\n",
        "import pandas as pd\n",
        "import scipy.stats as stats"
      ],
      "execution_count": 3,
      "outputs": []
    },
    {
      "cell_type": "markdown",
      "metadata": {
        "id": "Y-6YDunfZZpk"
      },
      "source": [
        "Import the iris data set."
      ]
    },
    {
      "cell_type": "code",
      "metadata": {
        "id": "YSg-y1hgHZ99"
      },
      "source": [
        "url = \"https://archive.ics.uci.edu/ml/machine-learning-databases/iris/iris.data\"\n",
        "df = pd.read_csv(url,names=['slength','swidth','plength','pwidth','species'])\n"
      ],
      "execution_count": 4,
      "outputs": []
    },
    {
      "cell_type": "markdown",
      "metadata": {
        "id": "cWPbHuDbVzVG"
      },
      "source": [
        "## 3.1 Model parameter estimation\n",
        "Let us start with model parameter estimation. To this end, we go back to the outlook from the first notebook. There, we calculated the kurtosis and skewness for the different characteristics and species. We observed that the characteristic *slength* from of the species *iris virginica* has a kurtosis and skewness close to zero. We therefore concluded that a Gaussian model would probably be suitable. (We will see how to further justify that tomorrow) \n",
        "Let us  estimate the mean and standard deviation of the model."
      ]
    },
    {
      "cell_type": "code",
      "metadata": {
        "colab": {
          "base_uri": "https://localhost:8080/"
        },
        "id": "EHC4Q_mOVspZ",
        "outputId": "e735cab9-1a23-4e46-8266-e2f22b5be0a8"
      },
      "source": [
        "# Estimation of mean and standard deviation\n",
        "df_virginica=df[df['species']=='Iris-virginica']\n",
        "from scipy.stats import norm\n",
        "mean  = df_virginica['slength'].mean()\n",
        "sd = df_virginica['slength'].std()\n",
        "print(mean,sd)\n"
      ],
      "execution_count": 5,
      "outputs": [
        {
          "output_type": "stream",
          "name": "stdout",
          "text": [
            "6.587999999999998 0.6358795932744322\n"
          ]
        }
      ]
    },
    {
      "cell_type": "markdown",
      "metadata": {
        "id": "jT_04i14cuDM"
      },
      "source": [
        "So we get a mean of about 6.59 and a standard deviation of 0.64. Now let us see how the histogram of *slength* of *iris virginica* looks compared to our estimated model."
      ]
    },
    {
      "cell_type": "code",
      "metadata": {
        "colab": {
          "base_uri": "https://localhost:8080/",
          "height": 281
        },
        "id": "2cM7b2eiYwbK",
        "outputId": "24e3903f-4f0e-4e5a-e5ec-acb0b241dc24"
      },
      "source": [
        "# Create figure and axis\n",
        "fig, ax = plt.subplots(1,1)\n",
        "# Create 100 x values and plot the normal pdf for these values\n",
        "#x = np.linspace(norm.ppf(0.01),norm.ppf(0.99), 100)\n",
        "x = np.linspace(4,10,80)\n",
        "ax.plot(x, norm.pdf(x,mean,sd),'b-', lw=2, label='Normed pdf')\n",
        "df_virginica['slength'].plot(kind=\"hist\",fill=False,histtype='step',title='Iris Virginica Setal', label=\"length\", density=\"True\")\n",
        "ax.legend(loc='best', frameon=False)\n",
        "plt.show()"
      ],
      "execution_count": 6,
      "outputs": [
        {
          "output_type": "display_data",
          "data": {
            "text/plain": [
              "<Figure size 432x288 with 1 Axes>"
            ],
            "image/png": "[encoded data removed]"
          },
          "metadata": {
            "needs_background": "light"
          }
        }
      ]
    },
    {
      "cell_type": "markdown",
      "metadata": {
        "id": "qlcjT_YeYr7T"
      },
      "source": [
        "Looks not too bad, the right tail of the histogramm is a bit heavier than we would expect from a normal distribution. Let us check tomorrow whether a normal model is indeed justified - especially since the sample size is rather small."
      ]
    },
    {
      "cell_type": "markdown",
      "metadata": {
        "id": "hOVBrT0WdjrZ"
      },
      "source": [
        "## 3.2 Confidence intervall\n",
        "At the moment we have no clue on how certain we are about point estimates for the mean and standard deviation we calculated above. Hence, it makes sense to additionally look at the confidence intervals."
      ]
    },
    {
      "cell_type": "code",
      "metadata": {
        "colab": {
          "base_uri": "https://localhost:8080/"
        },
        "id": "MqZxZqfjhOs5",
        "outputId": "3323dc19-e877-4033-f77a-a5f011c8f649"
      },
      "source": [
        "#95%-confidence interval for the mean\n",
        "stats.t.interval(alpha=0.95, df=len(df_virginica['slength'])-1, loc=np.mean(df_virginica['slength']), scale=stats.sem(df_virginica['slength'])) \n"
      ],
      "execution_count": 7,
      "outputs": [
        {
          "output_type": "execute_result",
          "data": {
            "text/plain": [
              "(6.4072850193549105, 6.768714980645086)"
            ]
          },
          "metadata": {},
          "execution_count": 7
        }
      ]
    },
    {
      "cell_type": "markdown",
      "metadata": {
        "id": "yFGWWHEgi5Vu"
      },
      "source": [
        "If we already know that our data is normally distributed, we could also use the following code:"
      ]
    },
    {
      "cell_type": "code",
      "metadata": {
        "colab": {
          "base_uri": "https://localhost:8080/"
        },
        "id": "-o8ihs5Zj5IZ",
        "outputId": "09208b40-4060-47d4-f314-5d78168fcd3b"
      },
      "source": [
        "#95%-confidence interval for the when data is normally distirbuted\n",
        "stats.norm.interval(alpha=0.95, loc=np.mean(df_virginica['slength']), scale=stats.sem(df_virginica['slength']))"
      ],
      "execution_count": 8,
      "outputs": [
        {
          "output_type": "execute_result",
          "data": {
            "text/plain": [
              "(6.411746407971008, 6.764253592028989)"
            ]
          },
          "metadata": {},
          "execution_count": 8
        }
      ]
    },
    {
      "cell_type": "markdown",
      "metadata": {
        "id": "LOczDpjAj4m1"
      },
      "source": [
        "We can see that the confidence interval based on the t-distribution is a bit more conservative. But for this example the difference between the two is really small.\n",
        "\n",
        "Unfortunately, there is no Python library that computes the confidence interval of standard deviation, so we have to do it \"by hand\"."
      ]
    },
    {
      "cell_type": "code",
      "metadata": {
        "colab": {
          "base_uri": "https://localhost:8080/"
        },
        "id": "X6E1O5idl5Cu",
        "outputId": "965be3fd-6952-43f6-c222-8832182a4ce1"
      },
      "source": [
        "# confidence intervall for the standard deviation of normally distributed data\n",
        "alpha = 0.05  # significance level = 5%\n",
        "n = len(df_virginica['slength'])  # sample sizes\n",
        "s2 = np.var(df_virginica['slength'], ddof=1)   # sample variance\n",
        "degf = n - 1                 # degrees of freedom\n",
        "\n",
        "upper = np.sqrt((n - 1) * s2 / stats.chi2.ppf(alpha / 2, degf))\n",
        "lower = np.sqrt((n - 1) * s2 / stats.chi2.ppf(1 - alpha / 2, degf))\n",
        "(lower, upper)"
      ],
      "execution_count": 9,
      "outputs": [
        {
          "output_type": "execute_result",
          "data": {
            "text/plain": [
              "(0.5311718507243313, 0.7923907741872335)"
            ]
          },
          "metadata": {},
          "execution_count": 9
        }
      ]
    },
    {
      "cell_type": "markdown",
      "metadata": {
        "id": "yFHy-HgEnVTI"
      },
      "source": [
        "Try to calculate the confidence intervals for the other 2 species.\n",
        "\n",
        "You can find more on confidence intervals under https://aegis4048.github.io/comprehensive_confidence_intervals_for_python_developers#chi_square\n",
        "I found this Link quite helpful :)"
      ]
    },
    {
      "cell_type": "markdown",
      "metadata": {
        "id": "ldd4t9BUHZ9y"
      },
      "source": [
        "## 3.1 About linear Regression\n",
        "\n",
        "(Simple) linear regression means fitting a straight line to data a set of points $(x,y)$. You may consider this as the simplest case of Machine Learning (see Module 3). A line is described as\n",
        "\n",
        "$$y = ax + b$$\n",
        "\n",
        "Thus two parameters a (slope) and b (intersection with y axis) are fitted.\n",
        "\n",
        "There are different fitting methods, mostly least squares or maximum likelihood are used. See the lecture for some introduction to these two methods. \n"
      ]
    },
    {
      "cell_type": "markdown",
      "metadata": {
        "id": "tCRukbUyHZ9z"
      },
      "source": [
        "## Linear regression in Python"
      ]
    },
    {
      "cell_type": "markdown",
      "metadata": {
        "id": "vVN3HiA_HZ98"
      },
      "source": [
        "In notebook 1 we observed that there seems to be a rather strong correlation between slength-swidth in the setosa species. Let us further investigate this observation via linear regression. We use https://docs.scipy.org/doc/scipy/reference/generated/scipy.stats.linregress.html, using least squares. "
      ]
    },
    {
      "cell_type": "code",
      "source": [
        "from statsmodels.base.model import Model\n",
        "from sklearn import datasets, linear_model\n",
        "from sklearn.linear_model import LinearRegression\n",
        "import statsmodels.api as sm\n",
        "\n",
        "df_setosa = df[df['species']=='Iris-setosa']\n",
        "X = df_setosa['slength']\n",
        "y = df_setosa['swidth']\n",
        "\n",
        "X2 = sm.add_constant(X) # make sure that the model has an intercept\n",
        "est = sm.OLS(y, X2) # run OLS\n",
        "model = est.fit()\n",
        "print(model.params) # print model parameters"
      ],
      "metadata": {
        "colab": {
          "base_uri": "https://localhost:8080/"
        },
        "id": "2i1LDcA4TXoD",
        "outputId": "600a8b6b-a57c-475c-f129-1fccc3b7bf2a"
      },
      "execution_count": 10,
      "outputs": [
        {
          "output_type": "stream",
          "name": "stdout",
          "text": [
            "const     -0.623012\n",
            "slength    0.807234\n",
            "dtype: float64\n"
          ]
        },
        {
          "output_type": "stream",
          "name": "stderr",
          "text": [
            "/usr/local/lib/python3.7/dist-packages/statsmodels/tsa/tsatools.py:142: FutureWarning: In a future version of pandas all arguments of concat except for the argument 'objs' will be keyword-only\n",
            "  x = pd.concat(x[::order], 1)\n"
          ]
        }
      ]
    },
    {
      "cell_type": "markdown",
      "metadata": {
        "id": "j-8oRlJ5yjs2"
      },
      "source": [
        "Retrieve other information\n",
        "\n",
        "\n"
      ]
    },
    {
      "cell_type": "code",
      "metadata": {
        "colab": {
          "base_uri": "https://localhost:8080/"
        },
        "id": "0VPP4xJhyh3K",
        "outputId": "f6e6ccff-9ee3-414c-ac55-351c75235fea"
      },
      "source": [
        "print(model.summary())"
      ],
      "execution_count": 11,
      "outputs": [
        {
          "output_type": "stream",
          "name": "stdout",
          "text": [
            "                            OLS Regression Results                            \n",
            "==============================================================================\n",
            "Dep. Variable:                 swidth   R-squared:                       0.558\n",
            "Model:                            OLS   Adj. R-squared:                  0.548\n",
            "Method:                 Least Squares   F-statistic:                     60.52\n",
            "Date:                Wed, 31 Aug 2022   Prob (F-statistic):           4.75e-10\n",
            "Time:                        18:13:35   Log-Likelihood:                -1.8042\n",
            "No. Observations:                  50   AIC:                             7.608\n",
            "Df Residuals:                      48   BIC:                             11.43\n",
            "Df Model:                           1                                         \n",
            "Covariance Type:            nonrobust                                         \n",
            "==============================================================================\n",
            "                 coef    std err          t      P>|t|      [0.025      0.975]\n",
            "------------------------------------------------------------------------------\n",
            "const         -0.6230      0.521     -1.196      0.237      -1.670       0.424\n",
            "slength        0.8072      0.104      7.779      0.000       0.599       1.016\n",
            "==============================================================================\n",
            "Omnibus:                        0.350   Durbin-Watson:                   2.277\n",
            "Prob(Omnibus):                  0.839   Jarque-Bera (JB):                0.120\n",
            "Skew:                          -0.120   Prob(JB):                        0.942\n",
            "Kurtosis:                       3.018   Cond. No.                         75.0\n",
            "==============================================================================\n",
            "\n",
            "Notes:\n",
            "[1] Standard Errors assume that the covariance matrix of the errors is correctly specified.\n"
          ]
        }
      ]
    },
    {
      "cell_type": "markdown",
      "metadata": {
        "id": "V3BFeEvyHZ-J"
      },
      "source": [
        "Under *coef* we can see the estimates for $a$ and $b$. *P>|t|* corresponds to the p-value for the test with working hypothesis that the respective estimate ($\\hat{a}, \\hat{b}$) not equals 0. *Prob (F-statistic)* is the p-value for the test with working hypothesis, that at least one explanatory variable has a significant effect on the outcome. *R-squared* describes how well the variance in the data is explained by the model (1 = everything, 0 = nothing). One Problem with *R-squared* is that its value increases with the number of explanatory variables. Thus, often it makes more sense to look at *Adj. R-squared* which is corrected for the number of explanatory variables."
      ]
    },
    {
      "cell_type": "code",
      "metadata": {
        "id": "b4ZfkosnHZ-J",
        "colab": {
          "base_uri": "https://localhost:8080/",
          "height": 283
        },
        "outputId": "acba77f3-fe3d-4875-e4d3-53391dd0e8db"
      },
      "source": [
        "intercept, slope = model.params\n",
        "ax = df_setosa.plot(x='slength',y='swidth',kind=\"scatter\",c='c')\n",
        "plt.plot(X, intercept + slope*X, 'b', label='Fitted treated line')\n",
        "plt.show()"
      ],
      "execution_count": 12,
      "outputs": [
        {
          "output_type": "display_data",
          "data": {
            "text/plain": [
              "<Figure size 432x288 with 1 Axes>"
            ],
            "image/png": "[encoded data removed]"
          },
          "metadata": {
            "needs_background": "light"
          }
        }
      ]
    },
    {
      "cell_type": "markdown",
      "metadata": {
        "id": "4h0bIb7lHZ-h"
      },
      "source": [
        "The fit looks okay but there is some variation in the sample. How about the other species? \n",
        "\n",
        "We now have a model, a straight line, whose shape we have chosen, but whose parameters (slope and intersection) have been estimated/fitted from data with the least squares method. It tells us that $swidth$ of a leaf is $slength \\times slope$ $(f(slength) = a \\times slope)$. So we can do interpolation and extrapolation, i.e. get the swidth at any slength.\n",
        "\n",
        "\n"
      ]
    },
    {
      "cell_type": "markdown",
      "source": [
        "## Diagnostics\n",
        "Credits to https://robert-alvarez.github.io/2018-06-04-diagnostic_plots/ for implementing the diagnostic plots!"
      ],
      "metadata": {
        "id": "O7m4p7Uw_G7k"
      }
    },
    {
      "cell_type": "code",
      "source": [
        "import numpy as np\n",
        "import pandas as pd\n",
        "import seaborn as sns\n",
        "import statsmodels.api as sm\n",
        "import matplotlib.pyplot as plt\n",
        "from statsmodels.graphics.gofplots import ProbPlot\n",
        "plt.style.use('seaborn') # pretty matplotlib plots\n",
        "\n",
        "def graph(formula, x_range, label=None):\n",
        "    \"\"\"\n",
        "    Helper function for plotting cook's distance lines\n",
        "    \"\"\"\n",
        "    x = x_range\n",
        "    y = formula(x)\n",
        "    plt.plot(x, y, label=label, lw=1, ls='--', color='red')\n",
        "\n",
        "\n",
        "def diagnostic_plots(X, y, model_fit=None):\n",
        "  \"\"\"\n",
        "  Function to reproduce the 4 base plots of an OLS model in R.\n",
        "\n",
        "  ---\n",
        "  Inputs:\n",
        "\n",
        "  X: A numpy array or pandas dataframe of the features to use in building the linear regression model\n",
        "\n",
        "  y: A numpy array or pandas series/dataframe of the target variable of the linear regression model\n",
        "\n",
        "  model_fit [optional]: a statsmodel.api.OLS model after regressing y on X. If not provided, will be\n",
        "                        generated from X, y\n",
        "  \"\"\"\n",
        "\n",
        "  if not model_fit:\n",
        "      model_fit = sm.OLS(y, sm.add_constant(X)).fit()\n",
        "\n",
        "  # create dataframe from X, y for easier plot handling\n",
        "  dataframe = pd.concat([X, y], axis=1)\n",
        "\n",
        "  # model values\n",
        "  model_fitted_y = model_fit.fittedvalues\n",
        "  # model residuals\n",
        "  model_residuals = model_fit.resid\n",
        "  # normalized residuals\n",
        "  model_norm_residuals = model_fit.get_influence().resid_studentized_internal\n",
        "  # absolute squared normalized residuals\n",
        "  model_norm_residuals_abs_sqrt = np.sqrt(np.abs(model_norm_residuals))\n",
        "  # absolute residuals\n",
        "  model_abs_resid = np.abs(model_residuals)\n",
        "  # leverage, from statsmodels internals\n",
        "  model_leverage = model_fit.get_influence().hat_matrix_diag\n",
        "  # cook's distance, from statsmodels internals\n",
        "  model_cooks = model_fit.get_influence().cooks_distance[0]\n",
        "\n",
        "  plot_lm_1 = plt.figure()\n",
        "  plot_lm_1.axes[0] = sns.residplot(model_fitted_y, dataframe.columns[-1], data=dataframe,\n",
        "                            lowess=True,\n",
        "                            scatter_kws={'alpha': 0.5},\n",
        "                            line_kws={'color': 'red', 'lw': 1, 'alpha': 0.8})\n",
        "\n",
        "  plot_lm_1.axes[0].set_title('Residuals vs Fitted')\n",
        "  plot_lm_1.axes[0].set_xlabel('Fitted values')\n",
        "  plot_lm_1.axes[0].set_ylabel('Residuals');\n",
        "\n",
        "  # annotations\n",
        "  abs_resid = model_abs_resid.sort_values(ascending=False)\n",
        "  abs_resid_top_3 = abs_resid[:3]\n",
        "  for i in abs_resid_top_3.index:\n",
        "      plot_lm_1.axes[0].annotate(i,\n",
        "                                 xy=(model_fitted_y[i],\n",
        "                                     model_residuals[i]));\n",
        "\n",
        "  QQ = ProbPlot(model_norm_residuals)\n",
        "  plot_lm_2 = QQ.qqplot(line='45', alpha=0.5, color='#4C72B0', lw=1)\n",
        "  plot_lm_2.axes[0].set_title('Normal Q-Q')\n",
        "  plot_lm_2.axes[0].set_xlabel('Theoretical Quantiles')\n",
        "  plot_lm_2.axes[0].set_ylabel('Standardized Residuals');\n",
        "  # annotations\n",
        "  abs_norm_resid = np.flip(np.argsort(np.abs(model_norm_residuals)), 0)\n",
        "  abs_norm_resid_top_3 = abs_norm_resid[:3]\n",
        "  for r, i in enumerate(abs_norm_resid_top_3):\n",
        "      plot_lm_2.axes[0].annotate(i,\n",
        "                                 xy=(np.flip(QQ.theoretical_quantiles, 0)[r],\n",
        "                                     model_norm_residuals[i]));\n",
        "\n",
        "  plot_lm_3 = plt.figure()\n",
        "  plt.scatter(model_fitted_y, model_norm_residuals_abs_sqrt, alpha=0.5);\n",
        "  sns.regplot(model_fitted_y, model_norm_residuals_abs_sqrt,\n",
        "              scatter=False,\n",
        "              ci=False,\n",
        "              lowess=True,\n",
        "              line_kws={'color': 'red', 'lw': 1, 'alpha': 0.8});\n",
        "  plot_lm_3.axes[0].set_title('Scale-Location')\n",
        "  plot_lm_3.axes[0].set_xlabel('Fitted values')\n",
        "  plot_lm_3.axes[0].set_ylabel('$\\sqrt{|Standardized Residuals|}$');\n",
        "\n",
        "  # annotations\n",
        "  abs_sq_norm_resid = np.flip(np.argsort(model_norm_residuals_abs_sqrt), 0)\n",
        "  abs_sq_norm_resid_top_3 = abs_sq_norm_resid[:3]\n",
        "  for i in abs_norm_resid_top_3:\n",
        "      plot_lm_3.axes[0].annotate(i,\n",
        "                                 xy=(model_fitted_y[i],\n",
        "                                     model_norm_residuals_abs_sqrt[i]));\n",
        "\n",
        "\n",
        "  plot_lm_4 = plt.figure();\n",
        "  plt.scatter(model_leverage, model_norm_residuals, alpha=0.5);\n",
        "  sns.regplot(model_leverage, model_norm_residuals,\n",
        "              scatter=False,\n",
        "              ci=False,\n",
        "              lowess=True,\n",
        "              line_kws={'color': 'red', 'lw': 1, 'alpha': 0.8});\n",
        "  plot_lm_4.axes[0].set_xlim(0, max(model_leverage)+0.01)\n",
        "  plot_lm_4.axes[0].set_ylim(-3, 5)\n",
        "  plot_lm_4.axes[0].set_title('Residuals vs Leverage')\n",
        "  plot_lm_4.axes[0].set_xlabel('Leverage')\n",
        "  plot_lm_4.axes[0].set_ylabel('Standardized Residuals');\n",
        "\n",
        "  # annotations\n",
        "  leverage_top_3 = np.flip(np.argsort(model_cooks), 0)[:3]\n",
        "  for i in leverage_top_3:\n",
        "      plot_lm_4.axes[0].annotate(i,\n",
        "                                 xy=(model_leverage[i],\n",
        "                                     model_norm_residuals[i]));\n",
        "\n",
        "  p = len(model_fit.params) # number of model parameters\n",
        "  graph(lambda x: np.sqrt((0.5 * p * (1 - x)) / x),\n",
        "        np.linspace(0.001, max(model_leverage), 50),\n",
        "        'Cook\\'s distance') # 0.5 line\n",
        "  graph(lambda x: np.sqrt((1 * p * (1 - x)) / x),\n",
        "        np.linspace(0.001, max(model_leverage), 50)) # 1 line\n",
        "  plot_lm_4.legend(loc='upper right');"
      ],
      "metadata": {
        "id": "NFT6hL7eit2F"
      },
      "execution_count": 13,
      "outputs": []
    },
    {
      "cell_type": "code",
      "source": [
        "diagnostic_plots(X,y)"
      ],
      "metadata": {
        "colab": {
          "base_uri": "https://localhost:8080/",
          "height": 1000
        },
        "id": "iePh2Q_wiycC",
        "outputId": "404c464f-45fa-42f2-a473-579a3c036f6e"
      },
      "execution_count": 14,
      "outputs": [
        {
          "output_type": "stream",
          "name": "stderr",
          "text": [
            "/usr/local/lib/python3.7/dist-packages/statsmodels/tsa/tsatools.py:142: FutureWarning: In a future version of pandas all arguments of concat except for the argument 'objs' will be keyword-only\n",
            "  x = pd.concat(x[::order], 1)\n",
            "/usr/local/lib/python3.7/dist-packages/seaborn/_decorators.py:43: FutureWarning: Pass the following variables as keyword args: x, y. From version 0.12, the only valid positional argument will be `data`, and passing other arguments without an explicit keyword will result in an error or misinterpretation.\n",
            "  FutureWarning\n",
            "/usr/local/lib/python3.7/dist-packages/seaborn/_decorators.py:43: FutureWarning: Pass the following variables as keyword args: x, y. From version 0.12, the only valid positional argument will be `data`, and passing other arguments without an explicit keyword will result in an error or misinterpretation.\n",
            "  FutureWarning\n",
            "/usr/local/lib/python3.7/dist-packages/seaborn/_decorators.py:43: FutureWarning: Pass the following variables as keyword args: x, y. From version 0.12, the only valid positional argument will be `data`, and passing other arguments without an explicit keyword will result in an error or misinterpretation.\n",
            "  FutureWarning\n"
          ]
        },
        {
          "output_type": "display_data",
          "data": {
            "text/plain": [
              "<Figure size 576x396 with 1 Axes>"
            ],
            "image/png": "[encoded data removed]"
          },
          "metadata": {}
        },
        {
          "output_type": "display_data",
          "data": {
            "text/plain": [
              "<Figure size 576x396 with 1 Axes>"
            ],
            "image/png": "[encoded data removed]"
          },
          "metadata": {}
        },
        {
          "output_type": "display_data",
          "data": {
            "text/plain": [
              "<Figure size 576x396 with 1 Axes>"
            ],
            "image/png": "[encoded data removed]"
          },
          "metadata": {}
        },
        {
          "output_type": "display_data",
          "data": {
            "text/plain": [
              "<Figure size 576x396 with 1 Axes>"
            ],
            "image/png": "[encoded data removed]"
          },
          "metadata": {}
        }
      ]
    },
    {
      "cell_type": "markdown",
      "metadata": {
        "id": "9EW2fVflHZ-i"
      },
      "source": [
        "### Example Exponential p.d.f.\n",
        "\n",
        "With scale $\\beta$ and location $\\mu$\n",
        "\n",
        "$$f(x)=\\frac{1}{\\beta} e^{-(x-\\mu)/\\beta}     ,  x \\ge \\mu;\\beta>0$$"
      ]
    },
    {
      "cell_type": "code",
      "metadata": {
        "id": "6eu7CsUFHZ-j",
        "colab": {
          "base_uri": "https://localhost:8080/",
          "height": 364
        },
        "outputId": "4d1651b4-aa49-4cd7-fd68-1dfe33c4da71"
      },
      "source": [
        "# Let us fit data to an exponential distribution\n",
        "fig, ax = plt.subplots(1, 1)\n",
        "# First generate a data set from a exponential distribution\n",
        "x = stats.expon.rvs(0.0,0.5,size=50) #  scale = 0.5, location = 0.00, 100 variates\n",
        "ax.hist(x, density=True, histtype='stepfilled', alpha=0.3)\n",
        "# Fit scale and location to the histogram/data\n",
        "loc, scale = stats.expon.fit(x) # ML estimator scale, lambda * exp(-lambda * x), scale =1/lambda\n",
        "print(' Location = %1.2f , Scale = %1.2f' % (loc,scale)) \n",
        "plt.show()"
      ],
      "execution_count": 15,
      "outputs": [
        {
          "output_type": "stream",
          "name": "stdout",
          "text": [
            " Location = 0.00 , Scale = 0.36\n"
          ]
        },
        {
          "output_type": "display_data",
          "data": {
            "text/plain": [
              "<Figure size 576x396 with 1 Axes>"
            ],
            "image/png": "[encoded data removed]"
          },
          "metadata": {}
        }
      ]
    },
    {
      "cell_type": "markdown",
      "metadata": {
        "id": "OGXrcmQnHZ-o"
      },
      "source": [
        "If you run this code serval times, you'll observe that sometimes th fit is rather poor. Here, we know the true underlying distribution but in general we don't. Thus, it would be helpful to know the uncertainties on the fitted values. The curve_fit method below also returns the uncertainties."
      ]
    },
    {
      "cell_type": "markdown",
      "source": [
        "## Exercise\n",
        "The data set *cherry.csv* contains information about the height (in feet) $X_1$, the diameter (in inches) $X_2$ and the volume (in cubic feet) $Y$ of $n = 31$\n",
        "black cherry trees in the Allegheny National Forest.\n",
        "By means of an appropriate program, determine the OLS estimator and the coefficient of determination ($R^2$), adjusted and non-adjusted, for the following models:\n",
        "$$\n",
        "Y = a + b_1X_1 + b_2X_2\u000f\\\\\n",
        "Y = \u0012X_1X_2^2 \\\\\n",
        "log(Y) = a + b_1 log(X_1) + b_2 log(X_2) \\\\\n",
        "log(Y) = a + log(X_1) + 2 log(X_2)$$\n",
        "Compare and discuss the results."
      ],
      "metadata": {
        "id": "zfFR6aNlFlQp"
      }
    },
    {
      "cell_type": "markdown",
      "metadata": {
        "id": "rzjGIJouHZ-p"
      },
      "source": [
        "## 3.2 Non-linear regression\n",
        "\n",
        "If a line is not straight it is curved. There are many mathematical functions whose parameters we can try to fit to experimental data points. Some examples: Polynominals (first order is linear regression, second order is a parabola etc), exponential functions, normal function, sindoial wave function etc. You need to choose an approriate shape/function to obtain a good result. \n",
        "\n",
        "With the Scipy.stat module we can look for preprogrammed functions (in principle you can program your own function whose parameters you want to fit too): https://docs.scipy.org/doc/scipy/reference/stats.html. "
      ]
    },
    {
      "cell_type": "markdown",
      "metadata": {
        "id": "831QxcoRHZ-p"
      },
      "source": [
        "The scipy.optimize module provides a more general non-linear least squares fit. Look at and play with this example. It is complex and you will probably use some time to fully understand every step."
      ]
    },
    {
      "cell_type": "code",
      "metadata": {
        "id": "1wsB4y-wHZ-q"
      },
      "source": [
        "from scipy.optimize import curve_fit\n",
        "\n",
        "def func(x, a, b, c):\n",
        "     return a * np.exp(-b * x) + c\n",
        "\n",
        "xdata = np.linspace(0, 4, 50) # \n",
        "y = func(xdata, 2.5, 1.3, 0.5)\n",
        "plt.plot(xdata, y, 'g-', label='Generated data')\n",
        "np.random.seed(1729)\n",
        "y_noise = 0.2 * np.random.normal(size=xdata.size)\n",
        "ydata = y + y_noise\n",
        "plt.plot(xdata, ydata, 'bo', label='Generated data with noise')\n",
        "plt.legend()\n",
        "plt.show()"
      ],
      "execution_count": null,
      "outputs": []
    },
    {
      "cell_type": "markdown",
      "metadata": {
        "id": "EssTbnMBvvI7"
      },
      "source": [
        "Let's fit the curve."
      ]
    },
    {
      "cell_type": "code",
      "metadata": {
        "id": "FizQcBT1HZ-v"
      },
      "source": [
        "popt, pcov = curve_fit(func, xdata, ydata)\n",
        "print(popt)\n",
        "perr = np.sqrt(np.diag(pcov)) # Standard deviation = square root of the variance being on the diagonal of the covariance matrix\n",
        "plt.plot(xdata, func(xdata, *popt), 'r-',label= \\\n",
        "         'fit: a=%5.3f +- %5.3f, \\n b=%5.3f +- %5.3f, \\n c=%5.3f +-%5.3f' % \\\n",
        "         (popt[0],perr[0],popt[1],perr[1],popt[2],perr[2]))\n",
        "plt.xlabel('x')\n",
        "plt.ylabel('y')\n",
        "plt.legend()\n",
        "plt.show()\n",
        "# pcov is the covariance matrix. The errors**2 of each parameter are the values on the diagonal.\n",
        "perr = np.sqrt(np.diag(pcov)) # Standard deviation = square root of the variance being on the diagonal of the covariance matrix\n",
        "perr\n"
      ],
      "execution_count": null,
      "outputs": []
    },
    {
      "cell_type": "markdown",
      "metadata": {
        "id": "9e_ZppEZvzi0"
      },
      "source": [
        "Compare it to the data and the true function."
      ]
    },
    {
      "cell_type": "code",
      "metadata": {
        "id": "aOuM_jywv6Vu"
      },
      "source": [
        "plt.plot(xdata, y, 'g-', label='true')\n",
        "plt.plot(xdata, func(xdata, *popt), 'r-',label= 'fit')\n",
        "plt.plot(xdata, ydata, 'bo', label='Generated data with noise')\n",
        "plt.legend()\n",
        "plt.show()"
      ],
      "execution_count": null,
      "outputs": []
    },
    {
      "cell_type": "markdown",
      "metadata": {
        "id": "sfYUc2gayS7n"
      },
      "source": [
        "Try to add a bit more noise and rerun the code."
      ]
    },
    {
      "cell_type": "markdown",
      "metadata": {
        "id": "N399vCV4HZ-z"
      },
      "source": [
        "# 3.3 Non-parametric regression\n",
        "\n",
        "So far we have used functions (models) with some predefined model. The parameters we fitted to data. If we have no clue about the model, but a rought idea on the shape non-parametric methods like isotonic regression. However, these require more data as also the exact shape needs to guessed or fitted from the data. So normally a non-parametric method gives poorer results. \n",
        "\n",
        "There are several ways to do this in Python. You make look at this if you are interested:\n",
        "\n",
        "https://pythonhosted.org/PyQt-Fit/NonParam_tut.html"
      ]
    },
    {
      "cell_type": "markdown",
      "metadata": {
        "id": "uxKmRNrRHZ-0"
      },
      "source": [
        "# 3.4 Fitting with scikit-learn\n",
        "\n",
        "When it comes to machine learning, the `scikit-learn` module is much richer than the stats module. You can find extensive documentation with examples in the [user guide](https://scikit-learn.org/stable/user_guide.html)\n",
        "\n",
        "The module contains A LOT of different machine learning methods, and here we will cover only few of them. What is great about `scikit-learn` is that it has a uniform and consistent interface. \n",
        "\n",
        "All the different ML approaches are implemented as classes with a set of same main methods:\n",
        "\n",
        "1. `fitter = ...`: Create object.\n",
        "2. `fitter.fit(x, y[, sample_weight])`: Fit model.\n",
        "3. `y_pred = fitter.predict(X)`: Predict using the model.\n",
        "4. `s = fitter.score(x, y[, sample_weight])`: Return an appropriate measure of model performance.\n",
        "\n",
        "This allows us to easily replace one approach with another and find the best one for the problem at hand, by simply using another regression/classification object, while the rest of the code can remain the same.\n",
        "\n",
        "*But you should be careful that there remains some justification! Otherwise you'll overfit. To be sure, you should use an approach like cross validation.*"
      ]
    },
    {
      "cell_type": "code",
      "metadata": {
        "id": "ezmW4pb2HZ-1"
      },
      "source": [
        "# Let's write a method which can generate a linear dataset\n",
        "# with n_d dimensions and some gaussian noise to it\n",
        "import numpy as np\n",
        "import matplotlib.pyplot as plt\n",
        "\n",
        "def get_linear(n_d=1, n_points=10, w=None, b=None, sigma=5):\n",
        "  x = np.random.uniform(0, 10, size=(n_points, n_d))\n",
        "  \n",
        "  w = w or np.random.uniform(0.1, 10, n_d)\n",
        "  b = b or np.random.uniform(-10, 10)\n",
        "  y = np.dot(x, w) + b + np.random.normal(0, sigma, size=n_points)\n",
        "\n",
        "  print('true w =', w, ';  b =', b)\n",
        "\n",
        "  return x, y"
      ],
      "execution_count": null,
      "outputs": []
    },
    {
      "cell_type": "code",
      "metadata": {
        "id": "GlsmKqA_HZ-7"
      },
      "source": [
        "# Sample data from a straight line with noise to it \n",
        "x, y = get_linear(n_d=1, n_points=10)\n",
        "plt.plot(x[:, 0], y, '*')"
      ],
      "execution_count": null,
      "outputs": []
    },
    {
      "cell_type": "code",
      "metadata": {
        "id": "NbGHUG25Jr_n"
      },
      "source": [
        "from sklearn import datasets, linear_model\n",
        "reg = linear_model.LinearRegression()\n",
        "reg.fit(x, y)"
      ],
      "execution_count": null,
      "outputs": []
    },
    {
      "cell_type": "code",
      "metadata": {
        "id": "94oQqhyTKHlX"
      },
      "source": [
        "w, w0 = reg.coef_, reg.intercept_\n",
        "print(w, w0)"
      ],
      "execution_count": null,
      "outputs": []
    },
    {
      "cell_type": "markdown",
      "metadata": {
        "id": "QSNozJUJTSFa"
      },
      "source": [
        "scikit-learn does not support calculation of covariance on fitted parameters. That is a pity maybe. However, we can use numpy vectorized methods.\n"
      ]
    },
    {
      "cell_type": "code",
      "metadata": {
        "id": "rJIV5pKmUPSz"
      },
      "source": [
        "np.std(y - reg.predict(x))"
      ],
      "execution_count": null,
      "outputs": []
    },
    {
      "cell_type": "code",
      "metadata": {
        "id": "RF6OAUOkUQ9b"
      },
      "source": [
        "(np.cov(y - reg.predict(x)))**0.5"
      ],
      "execution_count": null,
      "outputs": []
    },
    {
      "cell_type": "markdown",
      "metadata": {
        "id": "QmYtZZnhM_ZB"
      },
      "source": [
        "What about ```.score()```?\n",
        "\n"
      ]
    },
    {
      "cell_type": "code",
      "metadata": {
        "id": "55dZuqcvM-49"
      },
      "source": [
        "from sklearn.metrics import mean_squared_error, r2_score\n",
        "# For regression the .score() yields the coefficient of determination.\n",
        "print('Score: %.2f'\n",
        "      % reg.score(x, y))\n",
        "# Indeed, when calculating r2 \"by hand\" we end up with the same result.\n",
        "print('Coefficient of determination: %.2f'\n",
        "      % r2_score(y, reg.predict(x)))\n",
        "\n"
      ],
      "execution_count": null,
      "outputs": []
    },
    {
      "cell_type": "markdown",
      "metadata": {
        "id": "N7ebNwFpNhJz"
      },
      "source": [
        "What the default of ```.score()``` is can be found in each estimator’s documentation. If you like to choose your scoring function yourself, you can find the implemented versions under this link https://scikit-learn.org/stable/modules/model_evaluation.html."
      ]
    },
    {
      "cell_type": "code",
      "metadata": {
        "id": "tzWRQdCATrl9"
      },
      "source": [
        "# Plot the fitted model with plus minus one standard deviation.\n",
        "# Are the data points distributed as expected?\n",
        "plt.scatter(x, y, marker='*')\n",
        "x_f = np.linspace(x.min(), x.max(), 10)\n",
        "y_f = w0 + w[0] * x_f\n",
        "plt.plot(x_f, y_f)\n",
        "plt.plot(x_f, y_f+5.5)\n",
        "plt.plot(x_f, y_f-5.5)"
      ],
      "execution_count": null,
      "outputs": []
    },
    {
      "cell_type": "code",
      "metadata": {
        "id": "JddYy37lHZ-_"
      },
      "source": [
        "# Generate data points from a plane with some noise to it (default) \n",
        "n_d = 2\n",
        "x, y = get_linear(n_d=n_d, n_points=100)\n",
        "\n",
        "fig = plt.figure(figsize=(8,8))\n",
        "ax = fig.add_subplot(111, projection='3d')\n",
        "ax.scatter(x[:,0], x[:,1], y, marker='x', color='b',s=40)"
      ],
      "execution_count": null,
      "outputs": []
    },
    {
      "cell_type": "code",
      "metadata": {
        "id": "VinHbzEjIBFm"
      },
      "source": [
        "reg = linear_model.LinearRegression()\n",
        "reg.fit(x, y)"
      ],
      "execution_count": null,
      "outputs": []
    },
    {
      "cell_type": "code",
      "metadata": {
        "id": "pdeRD7-ZTf0A"
      },
      "source": [
        "# When doing ML, it is recommended to split the dataset into a training\n",
        "# and a test set. The training set is used to learn the parameters. The \n",
        "# test set can be used to assess the performance of the trained model \n",
        "# (overfitting and underfitting). sklearn provides a helpful method doing that. \n",
        "\n",
        "from sklearn.model_selection import train_test_split\n",
        "\n",
        "n_d = 2\n",
        "x, y = get_linear(n_d=n_d, n_points=100, sigma=5)\n",
        "\n",
        "# train test split\n",
        "x_train, x_test, y_train, y_test = train_test_split(x, y, test_size=0.2)\n",
        "\n",
        "reg = linear_model.LinearRegression()\n",
        "reg.fit(x_train, y_train)\n",
        "\n",
        "\n",
        "fig = plt.figure(figsize=(8,8))\n",
        "ax = fig.add_subplot(111, projection='3d')\n",
        "ax.scatter(x_train[:,0], x_train[:,1], y_train, marker='x', color='b',s=40)\n",
        "ax.scatter(x_test[:,0], x_test[:,1], y_test, marker='+', color='r',s=80)\n",
        "\n",
        "xx0 = np.linspace(x[:,0].min(), x[:,0].max(), 10)\n",
        "xx1 = np.linspace(x[:,1].min(), x[:,1].max(), 10)\n",
        "xx0, xx1 = [a.flatten() for a in np.meshgrid(xx0, xx1)]\n",
        "xx = np.stack((xx0, xx1), axis=-1)\n",
        "yy = reg.predict(xx)\n",
        "ax.plot_trisurf(xx0, xx1, yy, alpha=0.5, color='g');"
      ],
      "execution_count": null,
      "outputs": []
    },
    {
      "cell_type": "code",
      "metadata": {
        "id": "3xw69ZnYY7R2"
      },
      "source": [
        "print('Score: %.2f'\n",
        "      % reg.score(x, y))\n",
        "print('Standard deviation of error: %.2f'\n",
        "      % np.std(y-reg.predict(x)))"
      ],
      "execution_count": null,
      "outputs": []
    },
    {
      "cell_type": "markdown",
      "metadata": {
        "id": "UAFWFkR4gaAf"
      },
      "source": [
        "## End of notebook\n",
        "\n",
        "We have now seen how to calculate confidence intervals and do linear regression with several python modules. The most popular ML models are implemented in sklearn. We don't have time practicing them in this Module. In Module 3 we will learn and practice deep neural networks.\n",
        "\n",
        "Please post a question about today's content here:\n",
        "\n",
        "https://forms.gle/kUjTJVy2AkqZuFcXA\n",
        "\n",
        "Many thanks and see you tomorrow !\n"
      ]
    },
    {
      "cell_type": "markdown",
      "metadata": {
        "id": "f2sQVIJP0r9B"
      },
      "source": [
        "## Extra - Much used ML performance measures\n",
        "\n",
        "1. Regression:\n",
        "* Mean Square Error (MSE): $mse=\\frac{1}{n}\\sum_i(y_i - \\hat y(\\bar x_i))^2$\n",
        "* Mean Absolute Error (MAE): $mae=\\frac{1}{n}\\sum_i|y_i - \\hat y(\\bar x_i)|$\n",
        "* Median Absolute Deviation (MAD): $mad=median(|y_i - \\hat y(\\bar x_i)|)$\n",
        "* Fraction of the explained variance: $R^2=1-\\frac{\\sum_i(y_i - \\hat y(\\bar x_i))^2}{\\sum_i(y_i - \\bar y_i)^2}$, where $\\bar y=\\frac{1}{n}\\sum_i y_i$\n",
        "\n",
        "2. Classification:\n",
        "* Confusion matrix \n"
      ]
    },
    {
      "cell_type": "markdown",
      "metadata": {
        "id": "QzuLxxBD1kdR"
      },
      "source": [
        "<img src=\"https://github.com/neworldemancer/DSF5/raw/master/figures/confusion_mtr.png\" width=\"60%\"/>"
      ]
    },
    {
      "cell_type": "markdown",
      "metadata": {
        "id": "7E9smfEP1ork"
      },
      "source": [
        "* Accuracy $=\\frac{TP+TN}{TP+FP+FN+TN}$\n",
        "* Precision $=\\frac{TP}{TP+FP}$\n",
        "* Recall $=\\frac{TP}{TP+FN}$\n",
        "* F1 $=2\\frac{Precision \\cdot Recall}{Precision+Recall} = \\frac{2 TP}{2 TP + FP+FN}$\n",
        "* Threat score (TS), or Intersection over Union (IoU): IoU=$\\frac{TP}{TP+FN+FP}$\n",
        "\n",
        "During model optimization the used measure in most cases must be differentiable. To this end usually some measure of similarities of distributions are employed (e.g. cross-entropy)."
      ]
    },
    {
      "cell_type": "markdown",
      "metadata": {
        "id": "U1J7txZf1vCg"
      },
      "source": [
        "## Extra - Multiple Linear Regression"
      ]
    },
    {
      "cell_type": "code",
      "metadata": {
        "id": "ljndBAw8TAml"
      },
      "source": [
        "url = \"https://raw.githubusercontent.com/krishnaik06/Multiple-Linear-Regression/master/50_Startups.csv\"\n",
        "ds = pd.read_csv(url)\n",
        "ds.head()\n"
      ],
      "execution_count": null,
      "outputs": []
    },
    {
      "cell_type": "code",
      "metadata": {
        "id": "2ajvIE33VMPr"
      },
      "source": [
        "# independend variables\n",
        "X = ds.iloc[:, 0:4]\n",
        "# dependent variable (Profit)\n",
        "y = ds.iloc[:, 4]\n",
        "X.head()\n",
        "\n"
      ],
      "execution_count": null,
      "outputs": []
    },
    {
      "cell_type": "code",
      "metadata": {
        "id": "SmYEN1HRXbDX"
      },
      "source": [
        "#Convert the 'States' into categorical columns\n",
        "states=pd.get_dummies(X['State'],drop_first=True)\n",
        "\n",
        "# Drop the state coulmn\n",
        "X=X.drop('State',axis=1)\n",
        "\n",
        "# Add the dummy-states independent variables\n",
        "X=pd.concat([X,states],axis=1)\n",
        "pd.set_option('display.max_rows', 200)\n",
        "X.head()"
      ],
      "execution_count": null,
      "outputs": []
    },
    {
      "cell_type": "markdown",
      "metadata": {
        "id": "QrhhmkmlYc6F"
      },
      "source": [
        "California is the *reference class*."
      ]
    },
    {
      "cell_type": "code",
      "metadata": {
        "id": "m-0CfCRnYbcw"
      },
      "source": [
        "X_train, X_test, y_train, y_test = train_test_split(X, y, test_size = 0.2, random_state = 0)\n",
        "\n",
        "#add constant to predictor variables\n",
        "X_train = sm.add_constant(X_train)\n",
        "\n",
        "#fit linear regression model\n",
        "model = sm.OLS(y_train, X_train).fit()\n",
        "\n",
        "#view model summary\n",
        "print(model.summary())"
      ],
      "execution_count": null,
      "outputs": []
    },
    {
      "cell_type": "markdown",
      "metadata": {
        "id": "0WeBubTSZXkH"
      },
      "source": [
        "Evaluate other scores:"
      ]
    },
    {
      "cell_type": "code",
      "metadata": {
        "id": "7_R4r2gIZWfn"
      },
      "source": [
        "#evaluate MSE, MAD, and R2 on train and test datasets\n",
        "#prediction in sample:\n",
        "y_p_train = model.predict(X_train)\n",
        "\n",
        "# Predicting the Test set results\n",
        "X_test = sm.add_constant(X_test)\n",
        "y_p_test = model.predict(X_test)\n",
        "\n",
        "# mse\n",
        "print('train mse =', np.std(y_train - y_p_train))\n",
        "print('test mse =', np.std(y_test - y_p_test))\n",
        "# mse\n",
        "print('train mae =', np.mean(np.abs(y_train - y_p_train)))\n",
        "print('test mae =', np.mean(np.abs(y_test - y_p_test)))"
      ],
      "execution_count": null,
      "outputs": []
    },
    {
      "cell_type": "code",
      "metadata": {
        "id": "gRpdrj-7aDSQ"
      },
      "source": [
        "# plot y vs predicted y for test and train parts\n",
        "plt.plot(y_train, y_p_train, 'b.', label='train')\n",
        "plt.plot(y_test, y_p_test, 'r.', label='test')\n",
        "\n",
        "plt.plot([0], [0], 'w.')  # dummy to have origin\n",
        "plt.xlabel('true')\n",
        "plt.ylabel('predicted')\n",
        "plt.gca().set_aspect('equal')\n",
        "plt.legend()"
      ],
      "execution_count": null,
      "outputs": []
    }
  ]
}